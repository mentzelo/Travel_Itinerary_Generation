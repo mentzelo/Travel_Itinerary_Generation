{
 "cells": [
  {
   "cell_type": "code",
   "execution_count": 14,
   "id": "0037b0e1",
   "metadata": {},
   "outputs": [],
   "source": [
    "import numpy as np\n",
    "import pandas as pd\n",
    "\n",
    "df = pd.read_csv('restaurant reviews.csv', low_memory = False)\n",
    "df = df[[col for col in df.columns if 'photo' not in col]]  # Create a new DataFrame with filtered \n",
    "#columns that get rid of all the 'photo' columns\n",
    "\n",
    "\n"
   ]
  },
  {
   "cell_type": "code",
   "execution_count": 23,
   "id": "6bdfe7ae",
   "metadata": {},
   "outputs": [
    {
     "data": {
      "text/plain": [
       "Index(['helpfulVotes', 'id', 'lang', 'locationId', 'ownerResponse',\n",
       "       'ownerResponse/connectionToSubject', 'ownerResponse/id',\n",
       "       'ownerResponse/lang', 'ownerResponse/publishedDate',\n",
       "       'ownerResponse/responder', 'ownerResponse/text', 'placeInfo/address',\n",
       "       'placeInfo/addressObj/city', 'placeInfo/addressObj/country',\n",
       "       'placeInfo/addressObj/postalcode', 'placeInfo/addressObj/state',\n",
       "       'placeInfo/addressObj/street1', 'placeInfo/addressObj/street2',\n",
       "       'placeInfo/id', 'placeInfo/latitude', 'placeInfo/locationString',\n",
       "       'placeInfo/longitude', 'placeInfo/name', 'placeInfo/numberOfReviews',\n",
       "       'placeInfo/rating', 'placeInfo/ratingHistogram/count1',\n",
       "       'placeInfo/ratingHistogram/count2', 'placeInfo/ratingHistogram/count3',\n",
       "       'placeInfo/ratingHistogram/count4', 'placeInfo/ratingHistogram/count5',\n",
       "       'placeInfo/webUrl', 'placeInfo/website', 'publishedDate',\n",
       "       'publishedPlatform', 'rating', 'roomTip', 'subratings/0/name',\n",
       "       'subratings/0/value', 'subratings/1/name', 'subratings/1/value',\n",
       "       'subratings/2/name', 'subratings/2/value', 'subratings/3/name',\n",
       "       'subratings/3/value', 'text', 'title', 'travelDate', 'tripType', 'url',\n",
       "       'user/avatar', 'user/avatarVariations/id',\n",
       "       'user/avatarVariations/image', 'user/contributions/helpfulVotes',\n",
       "       'user/contributions/totalContributions', 'user/link', 'user/name',\n",
       "       'user/userId', 'user/userLocation', 'user/userLocation/id',\n",
       "       'user/userLocation/name', 'user/userLocation/shortName',\n",
       "       'user/username'],\n",
       "      dtype='object')"
      ]
     },
     "execution_count": 23,
     "metadata": {},
     "output_type": "execute_result"
    }
   ],
   "source": [
    "df.columns"
   ]
  },
  {
   "cell_type": "markdown",
   "id": "9030f766",
   "metadata": {},
   "source": [
    "Our goal is to cluster the data into groups that have minimal separation to better understand what differentiates restaurants."
   ]
  },
  {
   "cell_type": "code",
   "execution_count": 19,
   "id": "00e9481b",
   "metadata": {},
   "outputs": [
    {
     "data": {
      "text/plain": [
       "0        Piatsa Kalamaki F. Negri\n",
       "1        Piatsa Kalamaki F. Negri\n",
       "2        Piatsa Kalamaki F. Negri\n",
       "3        Piatsa Kalamaki F. Negri\n",
       "4        Piatsa Kalamaki F. Negri\n",
       "                   ...           \n",
       "20122             Stinking Bishop\n",
       "20123             Stinking Bishop\n",
       "20124             Stinking Bishop\n",
       "20125             Stinking Bishop\n",
       "20126             Stinking Bishop\n",
       "Name: placeInfo/name, Length: 20127, dtype: object"
      ]
     },
     "execution_count": 19,
     "metadata": {},
     "output_type": "execute_result"
    }
   ],
   "source": [
    "df['placeInfo/name']\n",
    "## The place name we will use as reference"
   ]
  },
  {
   "cell_type": "code",
   "execution_count": 29,
   "id": "5be44dfb",
   "metadata": {},
   "outputs": [],
   "source": [
    "grouped_reviews = df.groupby('placeInfo/name')"
   ]
  },
  {
   "cell_type": "code",
   "execution_count": 30,
   "id": "23bc713e",
   "metadata": {},
   "outputs": [],
   "source": [
    "concatenated_reviews = grouped_reviews['text'].apply(lambda x: ' '.join(x))\n",
    "reviews_by_restaurant = pd.DataFrame(concatenated_reviews)\n",
    "reviews_by_restaurant.index = reviews_by_restaurant.index.get_level_values('placeInfo/name')\n"
   ]
  },
  {
   "cell_type": "code",
   "execution_count": 32,
   "id": "84ed7edc",
   "metadata": {},
   "outputs": [],
   "source": [
    "df = reviews_by_restaurant"
   ]
  },
  {
   "cell_type": "markdown",
   "id": "33d4c5d8",
   "metadata": {},
   "source": [
    "Above we can see the data we have for each restaurant. Some potentially useful"
   ]
  },
  {
   "cell_type": "code",
   "execution_count": 33,
   "id": "7bab7635",
   "metadata": {},
   "outputs": [],
   "source": [
    "####Now let's try doc2vec to embed these columns:\n",
    "\n",
    "from gensim.models import Doc2Vec\n",
    "\n",
    "from gensim.models.doc2vec import TaggedDocument\n",
    "\n",
    "\n",
    "#cols = ['description', 'review_Tags', 'cuisines', 'priceLevel']\n",
    "\n",
    "\n",
    "##This function takes a particular column and creates an embedding for it usnig the parameters specified\n",
    "\n",
    "def embed_doc2vec(df, col, vector_size, window, min_count=2, workers=4):\n",
    "    \n",
    "    # Prepare a list of tagged documents for Doc2Vec\n",
    "    documents = [TaggedDocument(doc.split(), [col + '_' + str(idx)]) for idx, doc in df[col].iteritems()]\n",
    "\n",
    "    # Train a Doc2Vec model for this column\n",
    "    model = Doc2Vec(documents, vector_size = vector_size, window = window, min_count = min_count, workers = workers, epochs=40)  # Adjust hyperparameters as needed\n",
    "\n",
    "    # Embed each document in the column\n",
    "    column_embeddings = [model.infer_vector(doc.words) for doc in documents]\n",
    "\n",
    "    # Add a new column for the embeddings\n",
    "    df[col + '_embeddings'] = column_embeddings\n",
    "    \n",
    "    return df, model\n",
    "\n",
    "    \n",
    "    "
   ]
  },
  {
   "cell_type": "code",
   "execution_count": 72,
   "id": "f45d57ac",
   "metadata": {},
   "outputs": [],
   "source": [
    "df, model = embed_doc2vec(df, 'text', vector_size = 100, window = 3, min_count=2, workers=4)\n"
   ]
  },
  {
   "cell_type": "code",
   "execution_count": 73,
   "id": "f255aa16",
   "metadata": {},
   "outputs": [],
   "source": [
    "#### Let's try some clustering:\n",
    "\n",
    "from scipy.spatial.distance import pdist, squareform\n",
    "from sklearn.cluster import AgglomerativeClustering\n",
    "from sklearn.cluster import KMeans\n",
    "from sklearn.preprocessing import normalize\n",
    "import matplotlib.pyplot as plt\n",
    "\n",
    "# Extract embeddings as a NumPy array\n",
    "embeddings = np.vstack(df['text_embeddings'].tolist()) \n",
    "embeddings = normalize(embeddings)\n",
    "# Calculate cosine similarity matrix (1 - cosine distance)\n",
    "dist_matrix = 1 - squareform(pdist(embeddings, metric='cosine'))\n",
    "\n",
    "# Perform hierarchical clustering with desired linkage\n",
    "#clustering = AgglomerativeClustering(affinity='precomputed', linkage='average')  # Adjust linkage as needed\n",
    "#clusters = clustering.fit_predict(dist_matrix)\n",
    "\n",
    "\n",
    "\n",
    "## K means below for example\n",
    "\n",
    "kmeans = KMeans(n_clusters=15, random_state=42)  # Set a random state for reproducibility\n",
    "clusters = kmeans.fit_predict(embeddings)\n",
    "\n",
    "\n",
    "# Assign cluster labels to the DataFrame\n",
    "df['cluster'] = clusters"
   ]
  },
  {
   "cell_type": "code",
   "execution_count": 74,
   "id": "484bb450",
   "metadata": {},
   "outputs": [
    {
     "data": {
      "text/plain": [
       "count    484.000000\n",
       "mean       6.884298\n",
       "std        4.344274\n",
       "min        0.000000\n",
       "25%        3.000000\n",
       "50%        7.000000\n",
       "75%       11.000000\n",
       "max       14.000000\n",
       "Name: cluster, dtype: float64"
      ]
     },
     "execution_count": 74,
     "metadata": {},
     "output_type": "execute_result"
    }
   ],
   "source": [
    "df['cluster'].describe()"
   ]
  },
  {
   "cell_type": "code",
   "execution_count": 75,
   "id": "433e4d35",
   "metadata": {},
   "outputs": [
    {
     "data": {
      "text/plain": [
       "(484, 100)"
      ]
     },
     "execution_count": 75,
     "metadata": {},
     "output_type": "execute_result"
    }
   ],
   "source": [
    "embeddings.shape"
   ]
  },
  {
   "cell_type": "code",
   "execution_count": 39,
   "id": "a46d9ad1",
   "metadata": {},
   "outputs": [
    {
     "data": {
      "text/plain": [
       "484"
      ]
     },
     "execution_count": 39,
     "metadata": {},
     "output_type": "execute_result"
    }
   ],
   "source": [
    "len(dist_matrix)"
   ]
  },
  {
   "cell_type": "code",
   "execution_count": 76,
   "id": "c3aa21a3",
   "metadata": {},
   "outputs": [
    {
     "data": {
      "text/plain": [
       "array([[ 1.        ,  0.19899009,  0.18336033, ...,  0.04652707,\n",
       "        -0.12346556,  0.28458593],\n",
       "       [ 0.19899009,  1.        ,  0.04831075, ...,  0.19520655,\n",
       "         0.23734298,  0.32392335],\n",
       "       [ 0.18336033,  0.04831075,  1.        , ...,  0.32297291,\n",
       "         0.42574669,  0.35197187],\n",
       "       ...,\n",
       "       [ 0.04652707,  0.19520655,  0.32297291, ...,  1.        ,\n",
       "         0.63385962,  0.50371197],\n",
       "       [-0.12346556,  0.23734298,  0.42574669, ...,  0.63385962,\n",
       "         1.        ,  0.44690573],\n",
       "       [ 0.28458593,  0.32392335,  0.35197187, ...,  0.50371197,\n",
       "         0.44690573,  1.        ]])"
      ]
     },
     "execution_count": 76,
     "metadata": {},
     "output_type": "execute_result"
    }
   ],
   "source": [
    "dist_matrix"
   ]
  },
  {
   "cell_type": "code",
   "execution_count": 77,
   "id": "68655709",
   "metadata": {},
   "outputs": [
    {
     "data": {
      "text/html": [
       "<div>\n",
       "<style scoped>\n",
       "    .dataframe tbody tr th:only-of-type {\n",
       "        vertical-align: middle;\n",
       "    }\n",
       "\n",
       "    .dataframe tbody tr th {\n",
       "        vertical-align: top;\n",
       "    }\n",
       "\n",
       "    .dataframe thead th {\n",
       "        text-align: right;\n",
       "    }\n",
       "</style>\n",
       "<table border=\"1\" class=\"dataframe\">\n",
       "  <thead>\n",
       "    <tr style=\"text-align: right;\">\n",
       "      <th></th>\n",
       "      <th>text</th>\n",
       "      <th>text_embeddings</th>\n",
       "      <th>cluster</th>\n",
       "    </tr>\n",
       "    <tr>\n",
       "      <th>placeInfo/name</th>\n",
       "      <th></th>\n",
       "      <th></th>\n",
       "      <th></th>\n",
       "    </tr>\n",
       "  </thead>\n",
       "  <tbody>\n",
       "    <tr>\n",
       "      <th>+ousia</th>\n",
       "      <td>We stayed one night in Piraeus and we found th...</td>\n",
       "      <td>[-1.6620576, -1.6511962, 0.0073649273, 1.04716...</td>\n",
       "      <td>2</td>\n",
       "    </tr>\n",
       "    <tr>\n",
       "      <th>29 Superb Burgers &amp; Buns</th>\n",
       "      <td>Simply the best burger you can have in Athens ...</td>\n",
       "      <td>[-2.8371534, 1.1619194, -1.6697282, 0.42339143...</td>\n",
       "      <td>5</td>\n",
       "    </tr>\n",
       "    <tr>\n",
       "      <th>2MAZI Restaurant</th>\n",
       "      <td>This place has been recommended to us by our h...</td>\n",
       "      <td>[-1.1184976, -0.13102119, -1.5645769, -0.11266...</td>\n",
       "      <td>3</td>\n",
       "    </tr>\n",
       "    <tr>\n",
       "      <th>33 Adrianou</th>\n",
       "      <td>Great food, good portions and taste was spot o...</td>\n",
       "      <td>[-1.9011245, 1.0944123, -2.3357477, 0.85264474...</td>\n",
       "      <td>0</td>\n",
       "    </tr>\n",
       "    <tr>\n",
       "      <th>42 Barstronomy .Athens</th>\n",
       "      <td>Classy establishment with a beautiful lunch me...</td>\n",
       "      <td>[-1.966342, -0.4780828, -3.2616882, 0.73711705...</td>\n",
       "      <td>5</td>\n",
       "    </tr>\n",
       "    <tr>\n",
       "      <th>...</th>\n",
       "      <td>...</td>\n",
       "      <td>...</td>\n",
       "      <td>...</td>\n",
       "    </tr>\n",
       "    <tr>\n",
       "      <th>Zinglee</th>\n",
       "      <td>December 21.2021.  We were in Kolonaki for bus...</td>\n",
       "      <td>[-0.9571945, -0.076551594, -2.4921005, 0.49373...</td>\n",
       "      <td>3</td>\n",
       "    </tr>\n",
       "    <tr>\n",
       "      <th>Zisis - Fish in the Cone</th>\n",
       "      <td>Calamari was really good. Also enjoyed the sma...</td>\n",
       "      <td>[0.6446325, -1.8498263, -0.68143505, 0.5786372...</td>\n",
       "      <td>9</td>\n",
       "    </tr>\n",
       "    <tr>\n",
       "      <th>Zurbaran</th>\n",
       "      <td>Great place, nice food, good service, nice amb...</td>\n",
       "      <td>[-0.9143401, -0.7923429, -1.9638869, -0.327177...</td>\n",
       "      <td>13</td>\n",
       "    </tr>\n",
       "    <tr>\n",
       "      <th>e&amp;o Athens</th>\n",
       "      <td>Attentive service and a broad variety of finge...</td>\n",
       "      <td>[-2.4992232, 1.9060439, -3.4055328, 0.05689393...</td>\n",
       "      <td>13</td>\n",
       "    </tr>\n",
       "    <tr>\n",
       "      <th>il Marinero</th>\n",
       "      <td>Wonderful place with superb food. Try fresh fi...</td>\n",
       "      <td>[-0.9172906, 1.1582767, -1.623899, 0.0817026, ...</td>\n",
       "      <td>6</td>\n",
       "    </tr>\n",
       "  </tbody>\n",
       "</table>\n",
       "<p>484 rows × 3 columns</p>\n",
       "</div>"
      ],
      "text/plain": [
       "                                                                       text  \\\n",
       "placeInfo/name                                                                \n",
       "+ousia                    We stayed one night in Piraeus and we found th...   \n",
       "29 Superb Burgers & Buns  Simply the best burger you can have in Athens ...   \n",
       "2MAZI Restaurant          This place has been recommended to us by our h...   \n",
       "33 Adrianou               Great food, good portions and taste was spot o...   \n",
       "42 Barstronomy .Athens    Classy establishment with a beautiful lunch me...   \n",
       "...                                                                     ...   \n",
       "Zinglee                   December 21.2021.  We were in Kolonaki for bus...   \n",
       "Zisis - Fish in the Cone  Calamari was really good. Also enjoyed the sma...   \n",
       "Zurbaran                  Great place, nice food, good service, nice amb...   \n",
       "e&o Athens                Attentive service and a broad variety of finge...   \n",
       "il Marinero               Wonderful place with superb food. Try fresh fi...   \n",
       "\n",
       "                                                            text_embeddings  \\\n",
       "placeInfo/name                                                                \n",
       "+ousia                    [-1.6620576, -1.6511962, 0.0073649273, 1.04716...   \n",
       "29 Superb Burgers & Buns  [-2.8371534, 1.1619194, -1.6697282, 0.42339143...   \n",
       "2MAZI Restaurant          [-1.1184976, -0.13102119, -1.5645769, -0.11266...   \n",
       "33 Adrianou               [-1.9011245, 1.0944123, -2.3357477, 0.85264474...   \n",
       "42 Barstronomy .Athens    [-1.966342, -0.4780828, -3.2616882, 0.73711705...   \n",
       "...                                                                     ...   \n",
       "Zinglee                   [-0.9571945, -0.076551594, -2.4921005, 0.49373...   \n",
       "Zisis - Fish in the Cone  [0.6446325, -1.8498263, -0.68143505, 0.5786372...   \n",
       "Zurbaran                  [-0.9143401, -0.7923429, -1.9638869, -0.327177...   \n",
       "e&o Athens                [-2.4992232, 1.9060439, -3.4055328, 0.05689393...   \n",
       "il Marinero               [-0.9172906, 1.1582767, -1.623899, 0.0817026, ...   \n",
       "\n",
       "                          cluster  \n",
       "placeInfo/name                     \n",
       "+ousia                          2  \n",
       "29 Superb Burgers & Buns        5  \n",
       "2MAZI Restaurant                3  \n",
       "33 Adrianou                     0  \n",
       "42 Barstronomy .Athens          5  \n",
       "...                           ...  \n",
       "Zinglee                         3  \n",
       "Zisis - Fish in the Cone        9  \n",
       "Zurbaran                       13  \n",
       "e&o Athens                     13  \n",
       "il Marinero                     6  \n",
       "\n",
       "[484 rows x 3 columns]"
      ]
     },
     "execution_count": 77,
     "metadata": {},
     "output_type": "execute_result"
    }
   ],
   "source": [
    "df"
   ]
  },
  {
   "cell_type": "code",
   "execution_count": 78,
   "id": "93dcf348",
   "metadata": {},
   "outputs": [
    {
     "data": {
      "text/plain": [
       "12    44\n",
       "0     43\n",
       "2     39\n",
       "3     38\n",
       "5     37\n",
       "10    37\n",
       "9     36\n",
       "7     35\n",
       "13    32\n",
       "11    30\n",
       "8     26\n",
       "4     23\n",
       "1     22\n",
       "14    21\n",
       "6     21\n",
       "Name: cluster, dtype: int64"
      ]
     },
     "execution_count": 78,
     "metadata": {},
     "output_type": "execute_result"
    }
   ],
   "source": [
    "df['cluster'].value_counts()"
   ]
  },
  {
   "cell_type": "code",
   "execution_count": 133,
   "id": "40515240",
   "metadata": {},
   "outputs": [
    {
     "name": "stderr",
     "output_type": "stream",
     "text": [
      "C:\\ProgramData\\Anaconda3\\lib\\site-packages\\sklearn\\cluster\\_kmeans.py:1036: UserWarning: KMeans is known to have a memory leak on Windows with MKL, when there are less chunks than available threads. You can avoid it by setting the environment variable OMP_NUM_THREADS=2.\n",
      "  warnings.warn(\n"
     ]
    },
    {
     "data": {
      "image/png": "[encoded data removed]",
      "text/plain": [
       "<Figure size 432x288 with 1 Axes>"
      ]
     },
     "metadata": {
      "needs_background": "light"
     },
     "output_type": "display_data"
    }
   ],
   "source": [
    "### Here we try to evaluate the number of clusters and their inertia to try and locate the 'elbow'\n",
    "\n",
    "sse = {}\n",
    "for k in range(1, 25):\n",
    "    kmeans = KMeans(n_clusters=k, max_iter=1000).fit(embeddings)\n",
    "    df[\"cluster\"] = kmeans.labels_\n",
    "    #print(data[\"clusters\"])\n",
    "    sse[k] = kmeans.inertia_ # Inertia: Sum of distances of samples to their closest cluster center\n",
    "plt.figure()\n",
    "plt.plot(list(sse.keys()), list(sse.values()))\n",
    "plt.xlabel(\"Number of clusters\")\n",
    "plt.ylabel(\"SSE\")\n",
    "plt.show()"
   ]
  },
  {
   "cell_type": "code",
   "execution_count": 80,
   "id": "eef5087e",
   "metadata": {
    "scrolled": true
   },
   "outputs": [
    {
     "data": {
      "text/plain": [
       "Index(['ALEX The Fresh Pasta Bar', 'Belpaese', 'Brigante', 'Cicchetto Cantina',\n",
       "       'Crust Pizza', 'Diva Pizza', 'Evans Taverna', 'Frankie',\n",
       "       'Grandpa Trattoria', 'La Bella Napoli', 'La Pizzetta', 'Louis Bistrot',\n",
       "       'Meno Male', 'Mystic', 'Mystic Pizza & Pasta', 'Piadina Lumbro',\n",
       "       'Romatella - Pizza al Taglio', 'Smak', 'Ue Pizza Bar',\n",
       "       'V1935 Roof Garden', 'Zaxarokalamo'],\n",
       "      dtype='object', name='placeInfo/name')"
      ]
     },
     "metadata": {},
     "output_type": "display_data"
    }
   ],
   "source": [
    "with pd.option_context('display.max_colwidth', None,\n",
    "                       'display.max_columns', None,\n",
    "                       'display.max_rows', None):\n",
    "\n",
    "\n",
    "\n",
    "    display(df[df['cluster'] == 14].index)"
   ]
  },
  {
   "cell_type": "code",
   "execution_count": 48,
   "id": "22e7cc66",
   "metadata": {},
   "outputs": [
    {
     "data": {
      "text/html": [
       "<div>\n",
       "<style scoped>\n",
       "    .dataframe tbody tr th:only-of-type {\n",
       "        vertical-align: middle;\n",
       "    }\n",
       "\n",
       "    .dataframe tbody tr th {\n",
       "        vertical-align: top;\n",
       "    }\n",
       "\n",
       "    .dataframe thead th {\n",
       "        text-align: right;\n",
       "    }\n",
       "</style>\n",
       "<table border=\"1\" class=\"dataframe\">\n",
       "  <thead>\n",
       "    <tr style=\"text-align: right;\">\n",
       "      <th></th>\n",
       "      <th>text</th>\n",
       "      <th>text_embeddings</th>\n",
       "      <th>cluster</th>\n",
       "    </tr>\n",
       "    <tr>\n",
       "      <th>placeInfo/name</th>\n",
       "      <th></th>\n",
       "      <th></th>\n",
       "      <th></th>\n",
       "    </tr>\n",
       "  </thead>\n",
       "  <tbody>\n",
       "    <tr>\n",
       "      <th>+ousia</th>\n",
       "      <td>We stayed one night in Piraeus and we found th...</td>\n",
       "      <td>[-2.608371, -1.0581902, -2.5507777, -0.1293242...</td>\n",
       "      <td>12</td>\n",
       "    </tr>\n",
       "    <tr>\n",
       "      <th>29 Superb Burgers &amp; Buns</th>\n",
       "      <td>Simply the best burger you can have in Athens ...</td>\n",
       "      <td>[-2.6591594, -1.4418179, -2.0405848, -0.560701...</td>\n",
       "      <td>4</td>\n",
       "    </tr>\n",
       "    <tr>\n",
       "      <th>2MAZI Restaurant</th>\n",
       "      <td>This place has been recommended to us by our h...</td>\n",
       "      <td>[-2.612841, -0.8906125, -2.443545, -0.21879506...</td>\n",
       "      <td>12</td>\n",
       "    </tr>\n",
       "    <tr>\n",
       "      <th>33 Adrianou</th>\n",
       "      <td>Great food, good portions and taste was spot o...</td>\n",
       "      <td>[-2.9905314, -0.38667232, -2.4673777, -0.24789...</td>\n",
       "      <td>5</td>\n",
       "    </tr>\n",
       "    <tr>\n",
       "      <th>42 Barstronomy .Athens</th>\n",
       "      <td>Classy establishment with a beautiful lunch me...</td>\n",
       "      <td>[-2.595805, -0.84778756, -2.561694, 0.00129366...</td>\n",
       "      <td>9</td>\n",
       "    </tr>\n",
       "    <tr>\n",
       "      <th>...</th>\n",
       "      <td>...</td>\n",
       "      <td>...</td>\n",
       "      <td>...</td>\n",
       "    </tr>\n",
       "    <tr>\n",
       "      <th>Zinglee</th>\n",
       "      <td>December 21.2021.  We were in Kolonaki for bus...</td>\n",
       "      <td>[-3.0181582, -0.12751056, -2.4264095, -0.13465...</td>\n",
       "      <td>5</td>\n",
       "    </tr>\n",
       "    <tr>\n",
       "      <th>Zisis - Fish in the Cone</th>\n",
       "      <td>Calamari was really good. Also enjoyed the sma...</td>\n",
       "      <td>[-2.7153797, -1.5978893, -2.309113, -0.5226123...</td>\n",
       "      <td>4</td>\n",
       "    </tr>\n",
       "    <tr>\n",
       "      <th>Zurbaran</th>\n",
       "      <td>Great place, nice food, good service, nice amb...</td>\n",
       "      <td>[-2.9368763, -1.4016222, -2.2113917, -0.167590...</td>\n",
       "      <td>8</td>\n",
       "    </tr>\n",
       "    <tr>\n",
       "      <th>e&amp;o Athens</th>\n",
       "      <td>Attentive service and a broad variety of finge...</td>\n",
       "      <td>[-2.675437, -0.82117295, -2.5607119, -0.121463...</td>\n",
       "      <td>12</td>\n",
       "    </tr>\n",
       "    <tr>\n",
       "      <th>il Marinero</th>\n",
       "      <td>Wonderful place with superb food. Try fresh fi...</td>\n",
       "      <td>[-2.8327818, 0.42314672, -2.2739305, 0.1854198...</td>\n",
       "      <td>11</td>\n",
       "    </tr>\n",
       "  </tbody>\n",
       "</table>\n",
       "<p>484 rows × 3 columns</p>\n",
       "</div>"
      ],
      "text/plain": [
       "                                                                       text  \\\n",
       "placeInfo/name                                                                \n",
       "+ousia                    We stayed one night in Piraeus and we found th...   \n",
       "29 Superb Burgers & Buns  Simply the best burger you can have in Athens ...   \n",
       "2MAZI Restaurant          This place has been recommended to us by our h...   \n",
       "33 Adrianou               Great food, good portions and taste was spot o...   \n",
       "42 Barstronomy .Athens    Classy establishment with a beautiful lunch me...   \n",
       "...                                                                     ...   \n",
       "Zinglee                   December 21.2021.  We were in Kolonaki for bus...   \n",
       "Zisis - Fish in the Cone  Calamari was really good. Also enjoyed the sma...   \n",
       "Zurbaran                  Great place, nice food, good service, nice amb...   \n",
       "e&o Athens                Attentive service and a broad variety of finge...   \n",
       "il Marinero               Wonderful place with superb food. Try fresh fi...   \n",
       "\n",
       "                                                            text_embeddings  \\\n",
       "placeInfo/name                                                                \n",
       "+ousia                    [-2.608371, -1.0581902, -2.5507777, -0.1293242...   \n",
       "29 Superb Burgers & Buns  [-2.6591594, -1.4418179, -2.0405848, -0.560701...   \n",
       "2MAZI Restaurant          [-2.612841, -0.8906125, -2.443545, -0.21879506...   \n",
       "33 Adrianou               [-2.9905314, -0.38667232, -2.4673777, -0.24789...   \n",
       "42 Barstronomy .Athens    [-2.595805, -0.84778756, -2.561694, 0.00129366...   \n",
       "...                                                                     ...   \n",
       "Zinglee                   [-3.0181582, -0.12751056, -2.4264095, -0.13465...   \n",
       "Zisis - Fish in the Cone  [-2.7153797, -1.5978893, -2.309113, -0.5226123...   \n",
       "Zurbaran                  [-2.9368763, -1.4016222, -2.2113917, -0.167590...   \n",
       "e&o Athens                [-2.675437, -0.82117295, -2.5607119, -0.121463...   \n",
       "il Marinero               [-2.8327818, 0.42314672, -2.2739305, 0.1854198...   \n",
       "\n",
       "                          cluster  \n",
       "placeInfo/name                     \n",
       "+ousia                         12  \n",
       "29 Superb Burgers & Buns        4  \n",
       "2MAZI Restaurant               12  \n",
       "33 Adrianou                     5  \n",
       "42 Barstronomy .Athens          9  \n",
       "...                           ...  \n",
       "Zinglee                         5  \n",
       "Zisis - Fish in the Cone        4  \n",
       "Zurbaran                        8  \n",
       "e&o Athens                     12  \n",
       "il Marinero                    11  \n",
       "\n",
       "[484 rows x 3 columns]"
      ]
     },
     "execution_count": 48,
     "metadata": {},
     "output_type": "execute_result"
    }
   ],
   "source": [
    "df"
   ]
  },
  {
   "cell_type": "markdown",
   "id": "2cdf9033",
   "metadata": {},
   "source": [
    "#### Above we tried to cluster using document embeddings that we trained ourselves, but this didn't seem to be successful, the clusters don't seem to reflect much and this could be for several reasons e.g. the inherent data wasn't rich enough, cluster size fine tuning, or even our trained embeddings(not enough data). "
   ]
  },
  {
   "cell_type": "code",
   "execution_count": 154,
   "id": "68d91437",
   "metadata": {},
   "outputs": [],
   "source": [
    "tokens = \"I want to find a good brunch spot to have coffee in the morning outdoors with eggs and omelette and pancakes\".split()\n",
    "\n",
    "new_vector = model.infer_vector(tokens)\n",
    "sims = model.dv.most_similar([new_vector]) #gives you top 10 document tags and their cosine similarity"
   ]
  },
  {
   "cell_type": "code",
   "execution_count": 155,
   "id": "9c515449",
   "metadata": {},
   "outputs": [
    {
     "data": {
      "text/plain": [
       "[('text_Ursa Minor Athens', 0.640629231929779),\n",
       " ('text_Xrisimopolion', 0.6172234416007996),\n",
       " ('text_Belle Amie', 0.5956964492797852),\n",
       " ('text_Neratzia Cafe Bistro', 0.5819879770278931),\n",
       " ('text_Folk', 0.5644876956939697),\n",
       " ('text_Peperi', 0.5583944916725159),\n",
       " ('text_7 Cactus', 0.5547119379043579),\n",
       " ('text_Zinglee', 0.5512087941169739),\n",
       " ('text_Amber Athens', 0.551121711730957),\n",
       " ('text_Salute Bistro', 0.5492021441459656)]"
      ]
     },
     "execution_count": 155,
     "metadata": {},
     "output_type": "execute_result"
    }
   ],
   "source": [
    "sims"
   ]
  },
  {
   "cell_type": "code",
   "execution_count": 157,
   "id": "53c2f386",
   "metadata": {},
   "outputs": [
    {
     "data": {
      "text/plain": [
       "\"Nice foot and coffee , only thing destroyed my mood is waitress asking for a tip, of course I  won’t say no and most likely would leave it anyway but asking for it it’s just so bad !  Friendly service, nicest neighbourhood, and delicious food. \\nFresh orange juice and well made coffee. Will definitely return when in town. Poor restaurant   Sat down and order two lattes immediately. The waiters came with bill straight away. However the coffee took 20 minutes. When I asked where the drinks were there was just got a shrug and didn’t care. When they arrived they were luke warm (obviously made then forgotten). Then we looked at the bill ten euro for 2 coffees. You have been warned  Here twice while in town. Very good waiter-same guy twice. Food has been very good, and twice went with the waiter's recommendation. It must be very competitive to run a restaurant in a tourist area. Alot of tension around attracting and seating customers, but this must be the nature of the beast.\\n Very good food! \\n Listen to your waiter about specials; they are notable. And, the people are special. I hope they do well\\n\\n This was the best meal I’ve ever eaten, from the main to the dessert to the wine. Just perfect, a must for anyone in Athens We wanted sonething healthy and not meat oriented and this restaurant appeared in our searches.  Clean,  modern decor, and a menu with enough to satisfy our yearnings.  Friendly service. Incredible service and delicious food. The coffee was the best I've had in Athens. Loved the music as well. Delicious food: lovely presentation and quality ingredients. Staff attentive and served us with smiles.highly recommend for breakfast/lunch whether alone, with friends or family. Best in town! We were so so so lucky to have this place right under our Airbnb! Best bacon just like in the states! They serve an amazing assortment of breakfast options, lunch options, and dinner (and we had it all!) also very good cocktails and a super decor and feel and vibe to this place. One thing though-service is super slow, don’t be shy to wave them down on over! Best coffee in Greece so far! Also excellent food and friendly staff.\\n\\nPorridge was good and so was the Avocado and Poached eggs Great all around atmosphere and style, super delicious coffee and food.\\nTry the Buddha bowl, it’s astounding.\\n\\nLooking forward for visiting again. The venue is modern and very comfortable. English menu available with amazing food options that don’t disappoint. We have been to 7 countries so far on our holiday and this brunch spot has by far had the best coffee yet. The staff were so friendly and approachable. Overall great experience and would go back.  We visited Folk cause we wanted to have a coffee and were so happy with our choice. Folk serves Taf coffee using great quality equipment (La marzocco Mod bar) and the result in every single cup is super tasty. We had a look at the food menu too and we are definitely going back to enjoy a brunch. A lot of vegan options too, which is a huge plus! \\nPrices are very reasonable, customer service is of great quality with a friendly approach and professionalism! \\nThe design of the place is spot on! Impeccable design and innovative ingredients-focused food make this little spot a very welcome break from the chaos of the Athenian downtown. Good service, a fully functioning bar for cocktails and strong aircon. Extra points for the cool tableware (see photo) We had an amazing breakfast at the Folk every day. However they had wonderful dinners too. A simple menu, but you cannot go wrong eating here. Excellent food based on a small menu. Fresh, innovative dishes. Not the standard Greek you get at every street corner. \\n\\nThe sweet potatoes and the broccoli sprouts were amazing!\\n\\nWe will be back! One of the better restaurants in Athens.  Menu is innovative, service is spot on, food is delicious. The decor is lovely. Very impressive space.  Highly recommend and will definitely return. We passed by and the Scandinavian design got our attention to enter this place. We had lunch and the food was really good. We decided to have dinner as well so we booked a table for two. I had the lamb and my wife the fish. Both plates were super tasty. The service needs some more attention to details.\\nI highly recommend this place. Amazing experience. One of the best new places to visit in Athens! Starting from the design of the restaurant and moving to the menu this is definitely a must visit for everyone. Beautiful place, very clean and with a good aesthetic.\\n\\nGreat for coffee, brunch, lunch or dinner.\\nVery good and fresh ingredients, INNOVATIVE menu and I will come definitely again. I WANT TO TRY THE WHOLE MENU!!!!!!\\n\\n*****Highly recommended*****\\n\\nDouze Points!!!!!!!!!!!!!!\""
      ]
     },
     "execution_count": 157,
     "metadata": {},
     "output_type": "execute_result"
    }
   ],
   "source": [
    " df.loc['Folk','text']"
   ]
  },
  {
   "cell_type": "code",
   "execution_count": null,
   "id": "2325fd02",
   "metadata": {},
   "outputs": [],
   "source": []
  }
 ],
 "metadata": {
  "kernelspec": {
   "display_name": "Python 3 (ipykernel)",
   "language": "python",
   "name": "python3"
  },
  "language_info": {
   "codemirror_mode": {
    "name": "ipython",
    "version": 3
   },
   "file_extension": ".py",
   "mimetype": "text/x-python",
   "name": "python",
   "nbconvert_exporter": "python",
   "pygments_lexer": "ipython3",
   "version": "3.9.12"
  }
 },
 "nbformat": 4,
 "nbformat_minor": 5
}
