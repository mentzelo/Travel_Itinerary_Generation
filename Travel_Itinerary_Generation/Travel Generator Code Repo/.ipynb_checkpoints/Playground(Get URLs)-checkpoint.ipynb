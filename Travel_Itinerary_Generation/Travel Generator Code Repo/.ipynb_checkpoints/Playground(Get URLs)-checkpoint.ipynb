{
 "cells": [
  {
   "cell_type": "code",
   "execution_count": 1,
   "id": "c58028e5",
   "metadata": {},
   "outputs": [],
   "source": [
    "import Embed_Cluster as ec\n",
    "import pandas as pd"
   ]
  },
  {
   "cell_type": "code",
   "execution_count": 2,
   "id": "294c8888",
   "metadata": {},
   "outputs": [],
   "source": [
    "df_hotels_c = pd.read_csv('df_hotels_c.csv')\n",
    "df_attractions_c = pd.read_csv('df_attractions_c.csv')\n",
    "df_restaurants_c = pd.read_csv('df_restaurants_c.csv')\n",
    "customer_df = pd.read_csv('Survey Responses.csv')\n",
    "customer_df.columns = [x for x in range(0, len(customer_df.columns))] "
   ]
  },
  {
   "cell_type": "code",
   "execution_count": 3,
   "id": "9082fbae",
   "metadata": {},
   "outputs": [],
   "source": [
    "username = 'jmynbayeva@gmail.com'\n",
    "response  = customer_df.loc[customer_df[customer_df.columns[1]]==username,:]\n",
    "response = response.values.tolist()\n",
    "response = response[0]"
   ]
  },
  {
   "cell_type": "code",
   "execution_count": 4,
   "id": "eaf77a66",
   "metadata": {},
   "outputs": [],
   "source": [
    "def parse_response(response):\n",
    "    ##### For now we only include clusters that have Yes response, but can also add the Maybes later down the road, or make a more complex algorithm that\n",
    "    ##### incorporates them proportionately less than 'Yes'\n",
    "    hotels = []\n",
    "    attractions = []\n",
    "    restaurants = []\n",
    "    for i in range(6,17):\n",
    "        if response[i] == 'Yes':\n",
    "            hotels.append(i-6)\n",
    "    for i in range(17,31):\n",
    "        if response[i] == 'Yes':\n",
    "            attractions.append(i-17)\n",
    "    for i in range(31,46):\n",
    "        if response[i] == 'Yes':\n",
    "            restaurants.append(i-31)\n",
    "    return (hotels, attractions, restaurants)"
   ]
  },
  {
   "cell_type": "code",
   "execution_count": 76,
   "id": "b85e720f",
   "metadata": {},
   "outputs": [],
   "source": [
    "num_days = 5\n",
    "components = parse_response(response)\n",
    "hotel_components =  ec.get_components(num_days,components[0], df_hotels_c, 3)\n",
    "attraction_components =  ec.get_components(num_days,components[1], df_attractions_c, 4)\n",
    "restaurant_components =  ec.get_components(num_days,components[2], df_restaurants_c, 5)\n",
    "all_components = hotel_components + attraction_components + restaurant_components"
   ]
  },
  {
   "cell_type": "markdown",
   "id": "dde960bd",
   "metadata": {},
   "source": [
    "Now we've recreated our workflow: we have lists of our components, and we have a sample output from the LLM. We now need to parse this output to determine which of the provided components are present in the below output"
   ]
  },
  {
   "cell_type": "code",
   "execution_count": 109,
   "id": "6bf8f6d8",
   "metadata": {},
   "outputs": [],
   "source": [
    "prompt = \"Day 1 \\\n",
    "\\\n",
    "Morning: \\\n",
    "\\\n",
    "Arrive in Athens and check into your hotel, The Athens Gate Hotel or Hermes Hotel. (Transportation: Taxi or metro from the airport, approximately 30 minutes, cost: €30-€50)\\\n",
    "Walk to the Acropolis Museum (15-minute walk) and explore the fascinating collection of ancient Greek artifacts. (Transportation: Walk, 15 minutes, cost: free)\\\n",
    "Have lunch at the Acropolis Museum Restaurant (located within the museum), which offers stunning views of the Acropolis. (Transportation: Walk, 15 minutes, cost: €20-€30)\\\n",
    "Afternoon:\\\n",
    "\\\n",
    "Take a guided tour of the Acropolis (1 hour) with Athens Insiders to learn about the history and significance of this iconic landmark. (Transportation: Walk, 15 minutes, cost: €20)\\\n",
    "Visit the Parthenon, the Temple of Athena Nike, and the Erechtheion, and take in the breathtaking views of the city from the top of the hill. (Transportation: Walk, cost: free)\\\n",
    "Shop for souvenirs at the Plaka, a charming neighborhood located at the foot of the Acropolis. (Transportation: Walk, 15 minutes, cost: varies)\\\n",
    "Evening:\\\n",
    "\\\n",
    "Have dinner at Mama Tierra (10-minute walk from the Acropolis), a vegan restaurant that serves delicious and innovative plant-based dishes. (Transportation: Walk, 10 minutes, cost: €20-€30)\\\n",
    "Enjoy a romantic stroll through the National Garden, a beautiful park located near the center of Athens. (Transportation: Walk, 15 minutes, cost: free)\\\n",
    "Day 2\\\n",
    "\\\n",
    "Morning:\\\n",
    "\\\n",
    "Have breakfast at a local cafe near your hotel. (Transportation: Walk, 5 minutes, cost: €5-€10)\\\n",
    "Visit the National Archaeological Museum (20-minute walk from the hotel) and explore the world-renowned collection of ancient Greek art, including sculptures, pottery, and jewelry. (Transportation: Walk, 20 minutes, cost: free)\\\n",
    "Have lunch at Smak (5-minute walk from the museum), a restaurant that serves traditional Greek cuisine with a modern twist. (Transportation: Walk, 5 minutes, cost: €15-€25)\\\n",
    "Afternoon:\\\n",
    "\\\n",
    "Take a guided bike tour of Monastiraki (2-hour tour) with Athens by Bike. Explore this vibrant neighborhood, known for its lively markets, charming cafes, and beautiful churches. (Transportation: Walk to the bike rental shop, 10 minutes, cost: €20)\\\n",
    "Shop for souvenirs at the Central Market, a bustling marketplace where you can find everything from fresh produce to handmade crafts. (Transportation: Bike, 10 minutes, cost: free)\\\n",
    "Evening:\\\n",
    "\\\n",
    "Have dinner at Avocado (10-minute walk from the Central Market), a vegan restaurant that serves creative and flavorful dishes made with fresh, seasonal ingredients. (Transportation: Walk, 10 minutes, cost: €20-€30)\\\n",
    "Enjoy a night out at a rock music club, such as Gagarin 205 or Kyttaro Live Club. (Transportation: Taxi or metro, approximately 15 minutes, cost: €10-€15)\\\n",
    "Day 3\\\n",
    "\\\n",
    "Morning:\\\n",
    "\\\n",
    "Have breakfast at a local cafe near your hotel. (Transportation: Walk, 5 minutes, cost: €5-€10)\\\n",
    "Visit the Benaki Museum - Museum of Greek Culture (15-minute walk from the hotel) and explore the vast collection of Greek art, from ancient to modern times. (Transportation: Walk, 15 minutes, cost: free)\\\n",
    "Have lunch at Diodos Archaias Agoras (5-minute walk from the museum), a restaurant that serves traditional Greek dishes with a focus on local ingredients. (Transportation: Walk, 5 minutes, cost: €15-€25)\\\n",
    "Afternoon:\\\n",
    "\\\n",
    "Take a leisurely walk up Mount Lycabettus (30-minute walk from the museum) and enjoy panoramic views of the city from the top. (Transportation: Walk, 30 minutes, cost: free)\\\n",
    "Visit the Panathenaic Stadium, the first stadium in the world built entirely of marble, and take a guided tour (30-minute tour) to learn about its history and significance. (Transportation: Walk, 15 minutes, cost: €5)\\\n",
    "Evening:\\\n",
    "\\\n",
    "Indulge in a romantic dinner at Gods' Restaurant (10-minute walk from the Panathenaic Stadium), a fine-dining restaurant that offers exceptional Mediterranean cuisine and stunning views of the Acropolis. (Transportation: Walk, 10 minutes, cost: €30-€50)\\\n",
    "End your trip with a farewell drink at a rooftop bar, such as A for Athens or 360 Degrees, and soak in the city's vibrant atmosphere. (Transportation: Taxi or metro, approximately 15 minutes, cost: €10-€15)\\\n",
    "Please note that these costs are approximate and may vary depending on the time of year, availability, and your personal preferences.\""
   ]
  },
  {
   "cell_type": "code",
   "execution_count": 38,
   "id": "b2641440",
   "metadata": {},
   "outputs": [],
   "source": [
    "from fuzzywuzzy import fuzz\n",
    "## Originally tried fuzz, but it's too loose\n",
    "#def get_fuzzy_components(prompt, components):\n",
    " #   for component in components:\n",
    "  #      score = fuzz.ratio(component, prompt)\n",
    "   #     print(component,score)\n",
    "    #\n",
    "     #   if component in prompt:\n",
    "      #      print('yes')\n",
    "       # #if score < 1:  # Set a threshold for acceptable match\n",
    "        \n",
    "### This function takes a list of components, and a prompt and returns the a new list of components that were found\n",
    "### in the prompt(must be EXACT match)\n",
    "def chosen_components(components, prompt):\n",
    "    chosen = []\n",
    "    for component in components:\n",
    "        if component in prompt:\n",
    "            chosen.append(component)\n",
    "            \n",
    "    return chosen"
   ]
  },
  {
   "cell_type": "code",
   "execution_count": 103,
   "id": "2e53a91d",
   "metadata": {},
   "outputs": [],
   "source": [
    "chosen_restaurants = chosen_components(restaurant_components, prompt)\n",
    "chosen_hotels = chosen_components(hotel_components, prompt)\n",
    "chosen_attractions = chosen_components(attraction_components, prompt)\n"
   ]
  },
  {
   "cell_type": "code",
   "execution_count": 111,
   "id": "3004540a",
   "metadata": {},
   "outputs": [],
   "source": [
    "### This function modifies the prompt in-place and replaces components with their name and URL in markdown format\n",
    "### Bad idea, this will inevitably be difficult because strings have a lot of redundancy e.g. Acropolis Museum, Acropolis, etc\n",
    "def get_URLs(chosen, df, prompt):\n",
    "    URLs = []\n",
    "    for i in chosen:\n",
    "        URLs.append(i + ': ' + df[df['name'] == i]['webUrl'].values[0])\n",
    "    return URLs"
   ]
  },
  {
   "cell_type": "code",
   "execution_count": 112,
   "id": "a2f45cc7",
   "metadata": {},
   "outputs": [
    {
     "data": {
      "text/plain": [
       "['Avocado: https://www.tripadvisor.com/Restaurant_Review-g189400-d2155243-Reviews-Avocado-Athens_Attica.html',\n",
       " 'Smak: https://www.tripadvisor.com/Restaurant_Review-g189400-d13505920-Reviews-Smak-Athens_Attica.html',\n",
       " 'Mama Tierra: https://www.tripadvisor.com/Restaurant_Review-g189400-d8145189-Reviews-Mama_Tierra-Athens_Attica.html',\n",
       " \"Gods' Restaurant: https://www.tripadvisor.com/Restaurant_Review-g189400-d1724517-Reviews-Gods_Restaurant-Athens_Attica.html\",\n",
       " 'Diodos Archaias Agoras: https://www.tripadvisor.com/Restaurant_Review-g189400-d1076890-Reviews-Diodos_Archaias_Agoras-Athens_Attica.html',\n",
       " 'Acropolis Museum Restaurant: https://www.tripadvisor.com/Restaurant_Review-g189400-d2076068-Reviews-Acropolis_Museum_Restaurant-Athens_Attica.html']"
      ]
     },
     "execution_count": 112,
     "metadata": {},
     "output_type": "execute_result"
    }
   ],
   "source": [
    "get_URLs(chosen_restaurants, df_restaurants_c, prompt)"
   ]
  },
  {
   "cell_type": "markdown",
   "id": "41958ce7",
   "metadata": {},
   "source": [
    "In summary, what we have done above is the following:\n",
    "\n",
    "1. We parse the customer's responses to create a list of a customer's preferred components\n",
    "2. We then presumably have used this list of preferred components to generate a list of similar components\n",
    "3. We now take this comprehensive list of components that we want to use in the trip and create a prompt for the LLM to plan a trip using this comprehensive list of components\n",
    "4. We then take the output of the LLM which consists of an itinerary with a subset of the components and identify which components were actually used.\n",
    "5. We then find all instances of these components in the LLM output and add hyperlinks to the content for the user"
   ]
  },
  {
   "cell_type": "markdown",
   "id": "b4112bdc",
   "metadata": {},
   "source": [
    "We also need to retrieve items that were not initially mentioned to the LLM. What is the best way to do this?"
   ]
  },
  {
   "cell_type": "code",
   "execution_count": 119,
   "id": "f35a3f1e",
   "metadata": {},
   "outputs": [
    {
     "ename": "TypeError",
     "evalue": "dataclass_transform() got an unexpected keyword argument 'field_specifiers'",
     "output_type": "error",
     "traceback": [
      "\u001b[1;31m---------------------------------------------------------------------------\u001b[0m",
      "\u001b[1;31mTypeError\u001b[0m                                 Traceback (most recent call last)",
      "Input \u001b[1;32mIn [119]\u001b[0m, in \u001b[0;36m<cell line: 1>\u001b[1;34m()\u001b[0m\n\u001b[1;32m----> 1\u001b[0m \u001b[38;5;28;01mimport\u001b[39;00m \u001b[38;5;21;01mspacy\u001b[39;00m\n\u001b[0;32m      2\u001b[0m \u001b[38;5;28;01mimport\u001b[39;00m \u001b[38;5;21;01mstring\u001b[39;00m\n\u001b[0;32m      3\u001b[0m nlp \u001b[38;5;241m=\u001b[39m spacy\u001b[38;5;241m.\u001b[39mload(\u001b[38;5;124m\"\u001b[39m\u001b[38;5;124men_core_web_sm\u001b[39m\u001b[38;5;124m\"\u001b[39m) \u001b[38;5;66;03m# load pretrained model \u001b[39;00m\n",
      "File \u001b[1;32m~\\AppData\\Roaming\\Python\\Python39\\site-packages\\spacy\\__init__.py:6\u001b[0m, in \u001b[0;36m<module>\u001b[1;34m\u001b[0m\n\u001b[0;32m      3\u001b[0m \u001b[38;5;28;01mfrom\u001b[39;00m \u001b[38;5;21;01mtyping\u001b[39;00m \u001b[38;5;28;01mimport\u001b[39;00m Any, Dict, Iterable, Union\n\u001b[0;32m      5\u001b[0m \u001b[38;5;66;03m# set library-specific custom warning handling before doing anything else\u001b[39;00m\n\u001b[1;32m----> 6\u001b[0m \u001b[38;5;28;01mfrom\u001b[39;00m \u001b[38;5;21;01m.\u001b[39;00m\u001b[38;5;21;01merrors\u001b[39;00m \u001b[38;5;28;01mimport\u001b[39;00m setup_default_warnings\n\u001b[0;32m      8\u001b[0m setup_default_warnings()  \u001b[38;5;66;03m# noqa: E402\u001b[39;00m\n\u001b[0;32m     10\u001b[0m \u001b[38;5;66;03m# These are imported as part of the API\u001b[39;00m\n",
      "File \u001b[1;32m~\\AppData\\Roaming\\Python\\Python39\\site-packages\\spacy\\errors.py:3\u001b[0m, in \u001b[0;36m<module>\u001b[1;34m\u001b[0m\n\u001b[0;32m      1\u001b[0m \u001b[38;5;28;01mimport\u001b[39;00m \u001b[38;5;21;01mwarnings\u001b[39;00m\n\u001b[1;32m----> 3\u001b[0m \u001b[38;5;28;01mfrom\u001b[39;00m \u001b[38;5;21;01m.\u001b[39;00m\u001b[38;5;21;01mcompat\u001b[39;00m \u001b[38;5;28;01mimport\u001b[39;00m Literal\n\u001b[0;32m      6\u001b[0m \u001b[38;5;28;01mclass\u001b[39;00m \u001b[38;5;21;01mErrorsWithCodes\u001b[39;00m(\u001b[38;5;28mtype\u001b[39m):\n\u001b[0;32m      7\u001b[0m     \u001b[38;5;28;01mdef\u001b[39;00m \u001b[38;5;21m__getattribute__\u001b[39m(\u001b[38;5;28mself\u001b[39m, code):\n",
      "File \u001b[1;32m~\\AppData\\Roaming\\Python\\Python39\\site-packages\\spacy\\compat.py:4\u001b[0m, in \u001b[0;36m<module>\u001b[1;34m\u001b[0m\n\u001b[0;32m      1\u001b[0m \u001b[38;5;124;03m\"\"\"Helpers for Python and platform compatibility.\"\"\"\u001b[39;00m\n\u001b[0;32m      2\u001b[0m \u001b[38;5;28;01mimport\u001b[39;00m \u001b[38;5;21;01msys\u001b[39;00m\n\u001b[1;32m----> 4\u001b[0m \u001b[38;5;28;01mfrom\u001b[39;00m \u001b[38;5;21;01mthinc\u001b[39;00m\u001b[38;5;21;01m.\u001b[39;00m\u001b[38;5;21;01mutil\u001b[39;00m \u001b[38;5;28;01mimport\u001b[39;00m copy_array\n\u001b[0;32m      6\u001b[0m \u001b[38;5;28;01mtry\u001b[39;00m:\n\u001b[0;32m      7\u001b[0m     \u001b[38;5;28;01mimport\u001b[39;00m \u001b[38;5;21;01mcPickle\u001b[39;00m \u001b[38;5;28;01mas\u001b[39;00m \u001b[38;5;21;01mpickle\u001b[39;00m\n",
      "File \u001b[1;32m~\\AppData\\Roaming\\Python\\Python39\\site-packages\\thinc\\__init__.py:5\u001b[0m, in \u001b[0;36m<module>\u001b[1;34m\u001b[0m\n\u001b[0;32m      2\u001b[0m \u001b[38;5;28;01mimport\u001b[39;00m \u001b[38;5;21;01mnumpy\u001b[39;00m\n\u001b[0;32m      4\u001b[0m \u001b[38;5;28;01mfrom\u001b[39;00m \u001b[38;5;21;01m.\u001b[39;00m\u001b[38;5;21;01mabout\u001b[39;00m \u001b[38;5;28;01mimport\u001b[39;00m __version__\n\u001b[1;32m----> 5\u001b[0m \u001b[38;5;28;01mfrom\u001b[39;00m \u001b[38;5;21;01m.\u001b[39;00m\u001b[38;5;21;01mconfig\u001b[39;00m \u001b[38;5;28;01mimport\u001b[39;00m registry\n\u001b[0;32m      7\u001b[0m \u001b[38;5;66;03m# fmt: off\u001b[39;00m\n\u001b[0;32m      8\u001b[0m __all__ \u001b[38;5;241m=\u001b[39m [\n\u001b[0;32m      9\u001b[0m     \u001b[38;5;124m\"\u001b[39m\u001b[38;5;124mregistry\u001b[39m\u001b[38;5;124m\"\u001b[39m,\n\u001b[0;32m     10\u001b[0m     \u001b[38;5;124m\"\u001b[39m\u001b[38;5;124m__version__\u001b[39m\u001b[38;5;124m\"\u001b[39m,\n\u001b[0;32m     11\u001b[0m ]\n",
      "File \u001b[1;32m~\\AppData\\Roaming\\Python\\Python39\\site-packages\\thinc\\config.py:2\u001b[0m, in \u001b[0;36m<module>\u001b[1;34m\u001b[0m\n\u001b[0;32m      1\u001b[0m \u001b[38;5;28;01mimport\u001b[39;00m \u001b[38;5;21;01mcatalogue\u001b[39;00m\n\u001b[1;32m----> 2\u001b[0m \u001b[38;5;28;01mimport\u001b[39;00m \u001b[38;5;21;01mconfection\u001b[39;00m\n\u001b[0;32m      3\u001b[0m \u001b[38;5;28;01mfrom\u001b[39;00m \u001b[38;5;21;01mconfection\u001b[39;00m \u001b[38;5;28;01mimport\u001b[39;00m VARIABLE_RE, Config, ConfigValidationError, Promise\n\u001b[0;32m      5\u001b[0m \u001b[38;5;28;01mfrom\u001b[39;00m \u001b[38;5;21;01m.\u001b[39;00m\u001b[38;5;21;01mtypes\u001b[39;00m \u001b[38;5;28;01mimport\u001b[39;00m Decorator\n",
      "File \u001b[1;32m~\\AppData\\Roaming\\Python\\Python39\\site-packages\\confection\\__init__.py:38\u001b[0m, in \u001b[0;36m<module>\u001b[1;34m\u001b[0m\n\u001b[0;32m     35\u001b[0m \u001b[38;5;28;01mimport\u001b[39;00m \u001b[38;5;21;01msrsly\u001b[39;00m\n\u001b[0;32m     37\u001b[0m \u001b[38;5;28;01mtry\u001b[39;00m:\n\u001b[1;32m---> 38\u001b[0m     \u001b[38;5;28;01mfrom\u001b[39;00m \u001b[38;5;21;01mpydantic\u001b[39;00m\u001b[38;5;21;01m.\u001b[39;00m\u001b[38;5;21;01mv1\u001b[39;00m \u001b[38;5;28;01mimport\u001b[39;00m BaseModel, Extra, ValidationError, create_model\n\u001b[0;32m     39\u001b[0m     \u001b[38;5;28;01mfrom\u001b[39;00m \u001b[38;5;21;01mpydantic\u001b[39;00m\u001b[38;5;21;01m.\u001b[39;00m\u001b[38;5;21;01mv1\u001b[39;00m\u001b[38;5;21;01m.\u001b[39;00m\u001b[38;5;21;01mfields\u001b[39;00m \u001b[38;5;28;01mimport\u001b[39;00m ModelField\n\u001b[0;32m     40\u001b[0m     \u001b[38;5;28;01mfrom\u001b[39;00m \u001b[38;5;21;01mpydantic\u001b[39;00m\u001b[38;5;21;01m.\u001b[39;00m\u001b[38;5;21;01mv1\u001b[39;00m\u001b[38;5;21;01m.\u001b[39;00m\u001b[38;5;21;01mmain\u001b[39;00m \u001b[38;5;28;01mimport\u001b[39;00m ModelMetaclass\n",
      "File \u001b[1;32m~\\AppData\\Roaming\\Python\\Python39\\site-packages\\pydantic\\v1\\__init__.py:2\u001b[0m, in \u001b[0;36m<module>\u001b[1;34m\u001b[0m\n\u001b[0;32m      1\u001b[0m \u001b[38;5;66;03m# flake8: noqa\u001b[39;00m\n\u001b[1;32m----> 2\u001b[0m \u001b[38;5;28;01mfrom\u001b[39;00m \u001b[38;5;21;01m.\u001b[39;00m \u001b[38;5;28;01mimport\u001b[39;00m dataclasses\n\u001b[0;32m      3\u001b[0m \u001b[38;5;28;01mfrom\u001b[39;00m \u001b[38;5;21;01m.\u001b[39;00m\u001b[38;5;21;01mannotated_types\u001b[39;00m \u001b[38;5;28;01mimport\u001b[39;00m create_model_from_namedtuple, create_model_from_typeddict\n\u001b[0;32m      4\u001b[0m \u001b[38;5;28;01mfrom\u001b[39;00m \u001b[38;5;21;01m.\u001b[39;00m\u001b[38;5;21;01mclass_validators\u001b[39;00m \u001b[38;5;28;01mimport\u001b[39;00m root_validator, validator\n",
      "File \u001b[1;32m~\\AppData\\Roaming\\Python\\Python39\\site-packages\\pydantic\\v1\\dataclasses.py:48\u001b[0m, in \u001b[0;36m<module>\u001b[1;34m\u001b[0m\n\u001b[0;32m     46\u001b[0m \u001b[38;5;28;01mfrom\u001b[39;00m \u001b[38;5;21;01m.\u001b[39;00m\u001b[38;5;21;01merrors\u001b[39;00m \u001b[38;5;28;01mimport\u001b[39;00m DataclassTypeError\n\u001b[0;32m     47\u001b[0m \u001b[38;5;28;01mfrom\u001b[39;00m \u001b[38;5;21;01m.\u001b[39;00m\u001b[38;5;21;01mfields\u001b[39;00m \u001b[38;5;28;01mimport\u001b[39;00m Field, FieldInfo, Required, Undefined\n\u001b[1;32m---> 48\u001b[0m \u001b[38;5;28;01mfrom\u001b[39;00m \u001b[38;5;21;01m.\u001b[39;00m\u001b[38;5;21;01mmain\u001b[39;00m \u001b[38;5;28;01mimport\u001b[39;00m create_model, validate_model\n\u001b[0;32m     49\u001b[0m \u001b[38;5;28;01mfrom\u001b[39;00m \u001b[38;5;21;01m.\u001b[39;00m\u001b[38;5;21;01mutils\u001b[39;00m \u001b[38;5;28;01mimport\u001b[39;00m ClassAttribute\n\u001b[0;32m     51\u001b[0m \u001b[38;5;28;01mif\u001b[39;00m TYPE_CHECKING:\n",
      "File \u001b[1;32m~\\AppData\\Roaming\\Python\\Python39\\site-packages\\pydantic\\v1\\main.py:120\u001b[0m, in \u001b[0;36m<module>\u001b[1;34m\u001b[0m\n\u001b[0;32m    113\u001b[0m \u001b[38;5;66;03m# Note `ModelMetaclass` refers to `BaseModel`, but is also used to *create* `BaseModel`, so we need to add this extra\u001b[39;00m\n\u001b[0;32m    114\u001b[0m \u001b[38;5;66;03m# (somewhat hacky) boolean to keep track of whether we've created the `BaseModel` class yet, and therefore whether it's\u001b[39;00m\n\u001b[0;32m    115\u001b[0m \u001b[38;5;66;03m# safe to refer to it. If it *hasn't* been created, we assume that the `__new__` call we're in the middle of is for\u001b[39;00m\n\u001b[0;32m    116\u001b[0m \u001b[38;5;66;03m# the `BaseModel` class, since that's defined immediately after the metaclass.\u001b[39;00m\n\u001b[0;32m    117\u001b[0m _is_base_model_class_defined \u001b[38;5;241m=\u001b[39m \u001b[38;5;28;01mFalse\u001b[39;00m\n\u001b[1;32m--> 120\u001b[0m \u001b[38;5;129m@dataclass_transform\u001b[39m\u001b[43m(\u001b[49m\u001b[43mkw_only_default\u001b[49m\u001b[38;5;241;43m=\u001b[39;49m\u001b[38;5;28;43;01mTrue\u001b[39;49;00m\u001b[43m,\u001b[49m\u001b[43m \u001b[49m\u001b[43mfield_specifiers\u001b[49m\u001b[38;5;241;43m=\u001b[39;49m\u001b[43m(\u001b[49m\u001b[43mField\u001b[49m\u001b[43m,\u001b[49m\u001b[43m)\u001b[49m\u001b[43m)\u001b[49m\n\u001b[0;32m    121\u001b[0m \u001b[38;5;28;01mclass\u001b[39;00m \u001b[38;5;21;01mModelMetaclass\u001b[39;00m(ABCMeta):\n\u001b[0;32m    122\u001b[0m     \u001b[38;5;129m@no_type_check\u001b[39m  \u001b[38;5;66;03m# noqa C901\u001b[39;00m\n\u001b[0;32m    123\u001b[0m     \u001b[38;5;28;01mdef\u001b[39;00m \u001b[38;5;21m__new__\u001b[39m(mcs, name, bases, namespace, \u001b[38;5;241m*\u001b[39m\u001b[38;5;241m*\u001b[39mkwargs):  \u001b[38;5;66;03m# noqa C901\u001b[39;00m\n\u001b[0;32m    124\u001b[0m         fields: Dict[\u001b[38;5;28mstr\u001b[39m, ModelField] \u001b[38;5;241m=\u001b[39m {}\n",
      "\u001b[1;31mTypeError\u001b[0m: dataclass_transform() got an unexpected keyword argument 'field_specifiers'"
     ]
    }
   ],
   "source": [
    "import spacy\n",
    "import string\n",
    "nlp = spacy.load(\"en_core_web_sm\") # load pretrained model \n",
    "\n",
    "def proper_noun_extraction(x):\n",
    "    prop_noun = []\n",
    "    doc = nlp(string.capwords(x))\n",
    "    for tok in doc:\n",
    "        if tok.pos_ == 'PROPN':\n",
    "            prop_noun.append(str(tok))\n",
    "    if len(prop_noun) !=0:\n",
    "        return (' '.join(prop_noun), x)\n",
    "    else:\n",
    "        return ('no proper noun found', None)\n"
   ]
  },
  {
   "cell_type": "code",
   "execution_count": null,
   "id": "2d85e178",
   "metadata": {},
   "outputs": [],
   "source": []
  }
 ],
 "metadata": {
  "kernelspec": {
   "display_name": "Python 3 (ipykernel)",
   "language": "python",
   "name": "python3"
  },
  "language_info": {
   "codemirror_mode": {
    "name": "ipython",
    "version": 3
   },
   "file_extension": ".py",
   "mimetype": "text/x-python",
   "name": "python",
   "nbconvert_exporter": "python",
   "pygments_lexer": "ipython3",
   "version": "3.9.12"
  }
 },
 "nbformat": 4,
 "nbformat_minor": 5
}
