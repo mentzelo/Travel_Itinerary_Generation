{
 "cells": [
  {
   "cell_type": "code",
   "execution_count": 49,
   "id": "0037b0e1",
   "metadata": {},
   "outputs": [],
   "source": [
    "import numpy as np\n",
    "import pandas as pd\n",
    "\n",
    "df = pd.read_csv('restaurants.csv', low_memory = False)\n"
   ]
  },
  {
   "cell_type": "markdown",
   "id": "9030f766",
   "metadata": {},
   "source": [
    "Our goal is to cluster the data into groups that have minimal separation to better understand what differentiates restaurants."
   ]
  },
  {
   "cell_type": "code",
   "execution_count": 50,
   "id": "00e9481b",
   "metadata": {},
   "outputs": [
    {
     "data": {
      "text/plain": [
       "Unnamed: 0                                                            7\n",
       "webUrl                https://www.tripadvisor.com/Restaurant_Review-...\n",
       "website                                 http://www.herve-restaurant.com\n",
       "features              Reservations, Seating, Serves Alcohol, Accepts...\n",
       "review_Tags           gastronomic experience, pairing, sommelier, cu...\n",
       "cuisines              French, Mediterranean, Greek, Japanese Fusion,...\n",
       "meal_Types                              Dinner, nan, nan, nan, nan, nan\n",
       "dishes                nan, nan, nan, nan, nan, nan, nan, nan, nan, n...\n",
       "address               Trion Ierarchon 170 May not be visible from th...\n",
       "description           Chef's table restaurant providing a 16 course ...\n",
       "email                                         info@herve-restaurant.com\n",
       "name                                                   Herve Restaurant\n",
       "menuWebUrl                https://herve-restaurant.com/menu-philosophy/\n",
       "numberOfReviews                                                      84\n",
       "priceLevel                                                         $$$$\n",
       "priceRange                                                          $95\n",
       "rankingString                     #207 of 3,608 places to eat in Athens\n",
       "rankingDenominator                                               2952.0\n",
       "rating                                                              5.0\n",
       "rawRanking                                                     4.236686\n",
       "image                 https://media-cdn.tripadvisor.com/media/photo-...\n",
       "owner_image_url       https://media-cdn.tripadvisor.com/media/photo-...\n",
       "Name: 1, dtype: object"
      ]
     },
     "execution_count": 50,
     "metadata": {},
     "output_type": "execute_result"
    }
   ],
   "source": [
    "df.iloc[1]"
   ]
  },
  {
   "cell_type": "markdown",
   "id": "33d4c5d8",
   "metadata": {},
   "source": [
    "Above we can see the data we have for each restaurant. Some potentially useful"
   ]
  },
  {
   "cell_type": "code",
   "execution_count": 51,
   "id": "99e45d1a",
   "metadata": {},
   "outputs": [
    {
     "data": {
      "text/plain": [
       "'gastronomic experience, pairing, sommelier, cuisine, dishes, ambience, greece, nan, nan, nan, nan, nan, nan, nan, nan, nan, nan, nan, nan, nan, nan, nan, nan, nan, nan, nan, nan, nan, nan, nan'"
      ]
     },
     "execution_count": 51,
     "metadata": {},
     "output_type": "execute_result"
    }
   ],
   "source": [
    "df.iloc[1]['review_Tags']"
   ]
  },
  {
   "cell_type": "code",
   "execution_count": 52,
   "id": "51f6cf2e",
   "metadata": {},
   "outputs": [
    {
     "data": {
      "text/plain": [
       "'Reservations, Seating, Serves Alcohol, Accepts Credit Cards, Table Service, Outdoor Seating, Street Parking, Wheelchair Accessible, Full Bar, Accepts Mastercard, Accepts Visa, Digital Payments, Free Wifi, Family style, Non-smoking restaurants, Gift Cards Available, nan, nan, nan, nan, nan, nan, nan, nan, nan, nan, nan, nan, nan'"
      ]
     },
     "execution_count": 52,
     "metadata": {},
     "output_type": "execute_result"
    }
   ],
   "source": [
    "df.iloc[1]['features']"
   ]
  },
  {
   "cell_type": "code",
   "execution_count": 53,
   "id": "ef146d1e",
   "metadata": {},
   "outputs": [
    {
     "data": {
      "text/plain": [
       "\"Chef's table restaurant providing a 16 course tasting experience highlighting season's best ingredients from Greece and abroad.\""
      ]
     },
     "execution_count": 53,
     "metadata": {},
     "output_type": "execute_result"
    }
   ],
   "source": [
    "df.iloc[1]['description']"
   ]
  },
  {
   "cell_type": "code",
   "execution_count": 54,
   "id": "943e40d4",
   "metadata": {},
   "outputs": [
    {
     "data": {
      "text/plain": [
       "\"Chef's table restaurant providing a 16 course tasting experience highlighting season's best ingredients from Greece and abroad.\""
      ]
     },
     "execution_count": 54,
     "metadata": {},
     "output_type": "execute_result"
    }
   ],
   "source": [
    "df.iloc[1]['description']"
   ]
  },
  {
   "cell_type": "code",
   "execution_count": 55,
   "id": "c963297a",
   "metadata": {},
   "outputs": [],
   "source": [
    "### Here we get rid of all the rows that for which the following columns have no data\n",
    "###\n",
    "\n",
    "df = df.dropna(subset=['description', 'review_Tags', 'cuisines', 'priceLevel'])"
   ]
  },
  {
   "cell_type": "code",
   "execution_count": 56,
   "id": "80b9d7e6",
   "metadata": {},
   "outputs": [],
   "source": [
    "df = df.fillna('')\n",
    "df = df.replace(to_replace='nan', value='')\n",
    "df = df.replace(to_replace='nan,', value='')"
   ]
  },
  {
   "cell_type": "code",
   "execution_count": 57,
   "id": "e7163375",
   "metadata": {},
   "outputs": [
    {
     "data": {
      "text/plain": [
       "'Italian, Mediterranean, Greek, Healthy, Vegetarian Friendly, Vegan Options, Gluten Free Options,'"
      ]
     },
     "execution_count": 57,
     "metadata": {},
     "output_type": "execute_result"
    }
   ],
   "source": [
    "##Here we go through each column and remove any variations of the string 'nan'\n",
    "\n",
    "for col in df.columns:\n",
    "    if pd.api.types.is_string_dtype(df[col]):  # Check for string type\n",
    "        df[col] = df[col].str.replace(r' nan,', '', regex=True)\n",
    "        \n",
    "for col in df.columns:\n",
    "    if pd.api.types.is_string_dtype(df[col]):  # Check for string type\n",
    "        df[col] = df[col].str.replace(r' nan', '', regex=True)\n",
    "        \n",
    "        \n",
    "df['cuisines'].iloc[1]\n"
   ]
  },
  {
   "cell_type": "code",
   "execution_count": 58,
   "id": "feae9d2d",
   "metadata": {},
   "outputs": [
    {
     "data": {
      "text/plain": [
       "'Lebanese, Fast Food, Mediterranean, Healthy, Middle Eastern, Street Food, Vegetarian Friendly, Vegan Options, Halal, Gluten Free Options,'"
      ]
     },
     "execution_count": 58,
     "metadata": {},
     "output_type": "execute_result"
    }
   ],
   "source": [
    "df['cuisines'].iloc[15]"
   ]
  },
  {
   "cell_type": "code",
   "execution_count": 59,
   "id": "dd6dd569",
   "metadata": {},
   "outputs": [],
   "source": [
    "df.to_csv('restaurants_narrow.csv')"
   ]
  },
  {
   "cell_type": "code",
   "execution_count": 31,
   "id": "7bab7635",
   "metadata": {},
   "outputs": [],
   "source": [
    "####Now let's try doc2vec to embed these columns:\n",
    "\n",
    "from gensim.models import Doc2Vec\n",
    "\n",
    "from gensim.models.doc2vec import TaggedDocument\n",
    "\n",
    "\n",
    "cols = ['description', 'review_Tags', 'cuisines', 'priceLevel']\n",
    "\n",
    "\n",
    "##This function takes a particular column and creates an embedding for it usnig the parameters specified\n",
    "\n",
    "def embed_doc2vec(df, col, vector_size, window, min_count=2, workers=4):\n",
    "    \n",
    "    # Prepare a list of tagged documents for Doc2Vec\n",
    "    documents = [TaggedDocument(doc.split(), [col + '_' + str(idx)]) for idx, doc in df[col].iteritems()]\n",
    "\n",
    "    # Train a Doc2Vec model for this column\n",
    "    model = Doc2Vec(documents, vector_size = vector_size, window = window, min_count = min_count, workers = workers, epochs=40)  # Adjust hyperparameters as needed\n",
    "\n",
    "    # Embed each document in the column\n",
    "    column_embeddings = [model.infer_vector(doc.words) for doc in documents]\n",
    "\n",
    "    # Add a new column for the embeddings\n",
    "    df[col + '_embeddings'] = column_embeddings\n",
    "    \n",
    "    return df, model\n",
    "\n",
    "    \n",
    "    "
   ]
  },
  {
   "cell_type": "code",
   "execution_count": 34,
   "id": "f45d57ac",
   "metadata": {},
   "outputs": [],
   "source": [
    "df, model = embed_doc2vec(df, 'review_Tags', vector_size = 5, window = 3, min_count=2, workers=4)\n"
   ]
  },
  {
   "cell_type": "code",
   "execution_count": 21,
   "id": "f255aa16",
   "metadata": {},
   "outputs": [],
   "source": [
    "#### Let's try some clustering:\n",
    "\n",
    "from scipy.spatial.distance import pdist, squareform\n",
    "from sklearn.cluster import AgglomerativeClustering\n",
    "from sklearn.cluster import KMeans\n",
    "from sklearn.preprocessing import normalize\n",
    "import matplotlib.pyplot as plt\n",
    "\n",
    "# Extract embeddings as a NumPy array\n",
    "embeddings = np.vstack(df['review_Tags_embeddings'].tolist()) \n",
    "embeddings = normalize(embeddings)\n",
    "# Calculate cosine similarity matrix (1 - cosine distance)\n",
    "dist_matrix = 1 - squareform(pdist(embeddings, metric='cosine'))\n",
    "\n",
    "# Perform hierarchical clustering with desired linkage\n",
    "#clustering = AgglomerativeClustering(affinity='precomputed', linkage='average')  # Adjust linkage as needed\n",
    "#clusters = clustering.fit_predict(dist_matrix)\n",
    "\n",
    "\n",
    "\n",
    "## K means below for example\n",
    "\n",
    "kmeans = KMeans(n_clusters=15, random_state=42)  # Set a random state for reproducibility\n",
    "clusters = kmeans.fit_predict(embeddings)\n",
    "\n",
    "\n",
    "# Assign cluster labels to the DataFrame\n",
    "df['cluster'] = clusters"
   ]
  },
  {
   "cell_type": "code",
   "execution_count": 22,
   "id": "484bb450",
   "metadata": {},
   "outputs": [
    {
     "data": {
      "text/plain": [
       "count    485.000000\n",
       "mean       6.573196\n",
       "std        4.052510\n",
       "min        0.000000\n",
       "25%        4.000000\n",
       "50%        6.000000\n",
       "75%       10.000000\n",
       "max       14.000000\n",
       "Name: cluster, dtype: float64"
      ]
     },
     "execution_count": 22,
     "metadata": {},
     "output_type": "execute_result"
    }
   ],
   "source": [
    "df['cluster'].describe()"
   ]
  },
  {
   "cell_type": "code",
   "execution_count": 23,
   "id": "433e4d35",
   "metadata": {},
   "outputs": [
    {
     "data": {
      "text/plain": [
       "(485, 5)"
      ]
     },
     "execution_count": 23,
     "metadata": {},
     "output_type": "execute_result"
    }
   ],
   "source": [
    "embeddings.shape"
   ]
  },
  {
   "cell_type": "code",
   "execution_count": null,
   "id": "a46d9ad1",
   "metadata": {},
   "outputs": [],
   "source": [
    "len(dist_matrix)"
   ]
  },
  {
   "cell_type": "code",
   "execution_count": 24,
   "id": "c3aa21a3",
   "metadata": {},
   "outputs": [
    {
     "data": {
      "text/plain": [
       "array([[1.        , 0.69705918, 0.46801083, ..., 0.61045663, 0.58840672,\n",
       "        0.67931719],\n",
       "       [0.69705918, 1.        , 0.6978383 , ..., 0.92295954, 0.76316313,\n",
       "        0.94346835],\n",
       "       [0.46801083, 0.6978383 , 1.        , ..., 0.72954281, 0.94568774,\n",
       "        0.68904336],\n",
       "       ...,\n",
       "       [0.61045663, 0.92295954, 0.72954281, ..., 1.        , 0.70998731,\n",
       "        0.98998499],\n",
       "       [0.58840672, 0.76316313, 0.94568774, ..., 0.70998731, 1.        ,\n",
       "        0.71370894],\n",
       "       [0.67931719, 0.94346835, 0.68904336, ..., 0.98998499, 0.71370894,\n",
       "        1.        ]])"
      ]
     },
     "execution_count": 24,
     "metadata": {},
     "output_type": "execute_result"
    }
   ],
   "source": [
    "dist_matrix"
   ]
  },
  {
   "cell_type": "code",
   "execution_count": null,
   "id": "68655709",
   "metadata": {},
   "outputs": [],
   "source": [
    "df"
   ]
  },
  {
   "cell_type": "code",
   "execution_count": 25,
   "id": "1105b58b",
   "metadata": {},
   "outputs": [
    {
     "data": {
      "text/plain": [
       "4     57\n",
       "1     51\n",
       "5     46\n",
       "8     42\n",
       "10    35\n",
       "7     32\n",
       "9     32\n",
       "2     31\n",
       "13    28\n",
       "11    26\n",
       "6     24\n",
       "14    23\n",
       "3     21\n",
       "12    20\n",
       "0     17\n",
       "Name: cluster, dtype: int64"
      ]
     },
     "execution_count": 25,
     "metadata": {},
     "output_type": "execute_result"
    }
   ],
   "source": [
    "df['cluster'].value_counts()"
   ]
  },
  {
   "cell_type": "code",
   "execution_count": null,
   "id": "0162280d",
   "metadata": {},
   "outputs": [],
   "source": [
    "### Here we try to evaluate the number of clusters and their inertia to try and locate the 'elbow'\n",
    "\n",
    "sse = {}\n",
    "for k in range(1, 25):\n",
    "    kmeans = KMeans(n_clusters=k, max_iter=1000).fit(embeddings)\n",
    "    df[\"cluster\"] = kmeans.labels_\n",
    "    #print(data[\"clusters\"])\n",
    "    sse[k] = kmeans.inertia_ # Inertia: Sum of distances of samples to their closest cluster center\n",
    "plt.figure()\n",
    "plt.plot(list(sse.keys()), list(sse.values()))\n",
    "plt.xlabel(\"Number of clusters\")\n",
    "plt.ylabel(\"SSE\")\n",
    "plt.show()"
   ]
  },
  {
   "cell_type": "code",
   "execution_count": 30,
   "id": "fde2f983",
   "metadata": {
    "scrolled": true
   },
   "outputs": [
    {
     "data": {
      "text/plain": [
       "33                                              tagine, talagani cheese, meatballs, hummus, short ribs, kataifi, lamb, shrimp, cherry sauce, delicious food, our waiter, excellent restaurant, christos, gazi, dish, euphoria, greece, ingredients, greek, district, twist, heart, acropolis,\n",
       "40                                                                                                                                      souvlaki, burger, fries, salad, great vegan, quality and quantity, great taste, tasty food, large portions, delivery, meat, vegetarian, pita, waiter,\n",
       "85                        brisket, smoked meat, mac and cheese, spare ribs, duck, scones, corn on the cob, short ribs, fine dining, an amazing dinner, amazing taste, delicious food, attentive service, outdoor seating, bbq, sides, greece, bite, mouth, twist, neighborhood, heart, euros,\n",
       "93     falafel, pastitsio, salad, burger, sandwiches, bread, vegan food, great vegan, non vegan, eating meat, greek classics, gluten free, visiting athens, quality of food, great restaurant, zeus, temple, plate, wrap, cashews, eater, freshness, texture, ingredients, acropolis, greece,\n",
       "122                                                                                                                                                       falafel plate, vegan burger, linguine, curry, pasta dishes, vegan place, delicious food, ate here, kombucha, protein, twist, greek,\n",
       "189                                                                                                                                                   snails, cheesecake, chicken, great atmosphere, traditional food, excellent food, our waiter, value for money, emmanuel, athens, greece,\n",
       "221                                                                                                                                                                                                                brunch, big portions, visiting athens, nice food, acropolis, heart, greek,\n",
       "297                                                                                                                                                                                                                                             steak, cheesecake, many times, dishes, greek,\n",
       "315                                                                                                      steak, tartare, salad, bread, ice cream, cakes, nice red wine, side dishes, excellent restaurant, our waiter, great dinner, olive oil, kokoretsi, appetizers, tender, greece, euros,\n",
       "426                                                                                                        lamb, potatoes, eggplant salad, bread, pie, traditional greek music, authentic experience, house wine, olive oil, tasty food, tavern, neighborhood, greece, tourists, heart, ouzo,\n",
       "557                                                                                                                                                                                                                                                                comfort food, dish, heart,\n",
       "581                                                                                                                                                                                                                                            mash, ribs, amazing place, beers, pint, greek,\n",
       "673                                                                                                                                                                                                                                        wine bar, fantastic greek, cheese, plate, tourist,\n",
       "720                                                                                                                                                                                                                                                               perfect bar, koukaki, beer,\n",
       "721                                                                                                                                                                                                                                                                 tasty food, meat, greece,\n",
       "831                                                                                                                                                                                                                            lamb, daily specials, cozy place, amazing food, heart, dishes,\n",
       "907                                                                                                                                                                                                                                                                brunch, heart, atmosphere,\n",
       "Name: review_Tags, dtype: object"
      ]
     },
     "metadata": {},
     "output_type": "display_data"
    }
   ],
   "source": [
    "with pd.option_context('display.max_colwidth', None,\n",
    "                       'display.max_columns', None,\n",
    "                       'display.max_rows', None):\n",
    "\n",
    "\n",
    "\n",
    "\n",
    "    display(df[df['cluster'] == 0]['review_Tags'])"
   ]
  },
  {
   "cell_type": "markdown",
   "id": "f3cc32d3",
   "metadata": {},
   "source": [
    "#### Above we tried to cluster using document embeddings that we trained ourselves, but this didn't seem to be successful, the clusters don't seem to reflect much and this could be for several reasons e.g. the inherent data wasn't rich enough, cluster size fine tuning, or even our trained embeddings(not enough data). "
   ]
  },
  {
   "cell_type": "code",
   "execution_count": 36,
   "id": "1f1749d7",
   "metadata": {},
   "outputs": [],
   "source": [
    "tokens = \"vegan vegetarian and live music\".split()\n",
    "\n",
    "new_vector = model.infer_vector(tokens)\n",
    "sims = model.dv.most_similar([new_vector]) #gives you top 10 document tags and their cosine similarity"
   ]
  },
  {
   "cell_type": "code",
   "execution_count": 37,
   "id": "622febd5",
   "metadata": {},
   "outputs": [
    {
     "data": {
      "text/plain": [
       "[('review_Tags_93', 0.9968696236610413),\n",
       " ('review_Tags_218', 0.9967239499092102),\n",
       " ('review_Tags_115', 0.9942142963409424),\n",
       " ('review_Tags_436', 0.9933612942695618),\n",
       " ('review_Tags_787', 0.9903804063796997),\n",
       " ('review_Tags_495', 0.9901872873306274),\n",
       " ('review_Tags_399', 0.9895277619361877),\n",
       " ('review_Tags_910', 0.989235520362854),\n",
       " ('review_Tags_489', 0.9888647198677063),\n",
       " ('review_Tags_143', 0.9885537624359131)]"
      ]
     },
     "execution_count": 37,
     "metadata": {},
     "output_type": "execute_result"
    }
   ],
   "source": [
    "sims"
   ]
  },
  {
   "cell_type": "code",
   "execution_count": 48,
   "id": "65bf0a88",
   "metadata": {},
   "outputs": [
    {
     "data": {
      "text/plain": [
       "'The enchanting ‘’Peacock’’ Roof Garden Restaurant, you can enjoy your dinner or drink year- round regardless weather conditions, overlooking the amazing Acropolis & Acropolis museum.Our guests have an excellent opportunity to try the homemade dishes and desserts, all prepared with natural and pure products that we use for preparing the local cuisine dishes.'"
      ]
     },
     "execution_count": 48,
     "metadata": {},
     "output_type": "execute_result"
    }
   ],
   "source": [
    "df.iloc[218]['description']"
   ]
  },
  {
   "cell_type": "code",
   "execution_count": null,
   "id": "a87a1685",
   "metadata": {},
   "outputs": [],
   "source": []
  }
 ],
 "metadata": {
  "kernelspec": {
   "display_name": "Python 3 (ipykernel)",
   "language": "python",
   "name": "python3"
  },
  "language_info": {
   "codemirror_mode": {
    "name": "ipython",
    "version": 3
   },
   "file_extension": ".py",
   "mimetype": "text/x-python",
   "name": "python",
   "nbconvert_exporter": "python",
   "pygments_lexer": "ipython3",
   "version": "3.9.12"
  }
 },
 "nbformat": 4,
 "nbformat_minor": 5
}
