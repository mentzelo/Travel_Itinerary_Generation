{
  "nbformat": 4,
  "nbformat_minor": 0,
  "metadata": {
    "colab": {
      "provenance": []
    },
    "kernelspec": {
      "name": "python3",
      "display_name": "Python 3"
    },
    "language_info": {
      "name": "python"
    }
  },
  "cells": [
    {
      "cell_type": "code",
      "execution_count": 20,
      "metadata": {
        "id": "_L3EIuVWFco6"
      },
      "outputs": [],
      "source": [
        "from google.colab import auth\n",
        "auth.authenticate_user()\n",
        "import Embed_Cluster as ec ##Custom library\n",
        "import gspread\n",
        "import pandas as pd\n",
        "from google.auth import default\n",
        "creds, _ = default()\n",
        "# Import customer response sheet\n",
        "gc = gspread.authorize(creds)\n",
        "worksheet = gc.open('Athens Trip Maker (Responses)').sheet1\n",
        "\n",
        "# get_all_values gives a list of rows and convert to pandas df\n",
        "rows = worksheet.get_all_values()\n",
        "customer_df = pd.DataFrame.from_records(rows)"
      ]
    },
    {
      "cell_type": "markdown",
      "source": [
        "**Remember to add the below files to directory to run all the routines**"
      ],
      "metadata": {
        "id": "qgkkWpLVb2Bo"
      }
    },
    {
      "cell_type": "code",
      "source": [
        "df_hotels_c = pd.read_csv('df_hotels_c.csv')\n",
        "df_attractions_c = pd.read_csv('df_attractions_c.csv')\n",
        "df_restaurants_c = pd.read_csv('df_restaurants_c.csv')"
      ],
      "metadata": {
        "id": "CpAmGR0PCv0H"
      },
      "execution_count": 21,
      "outputs": []
    },
    {
      "cell_type": "markdown",
      "source": [
        "The above dataframe is pulled from our customer survey which contains the following columns:\n",
        "\n",
        "**0** Timestamp <br>\n",
        "**1** Username <br>\n",
        "**2** Who's traveling(partner, family, solo, friends) <br>\n",
        "**3** Number of adults <br>\n",
        "**4** Number of children <br>\n",
        "**5** Length of trip(days) <br>\n",
        "**6:16**  Hotel Clusters(Yes/Maybe/No) <br>\n",
        "**17:30** Attraction/Activity Clusters(Yes/Maybe/No) <br>\n",
        "**31:45** Restaurant Clusters(Yes/Maybe/No) <br>\n",
        "\n",
        "Below we write a function that will parse the above data into a format that is more easily readable e.g. transform into vectors that contain the cluster numbers corresponding to each component"
      ],
      "metadata": {
        "id": "xxNKbgbsqcEv"
      }
    },
    {
      "cell_type": "code",
      "source": [
        "def parse_response(response):\n",
        "  ##### For now we only include clusters that have Yes response, but can also add the Maybes later down the road, or make a more complex algorithm that\n",
        "  ##### incorporates them proportionately less than 'Yes'\n",
        "  hotels = []\n",
        "  attractions = []\n",
        "  restaurants = []\n",
        "  for i in range(6,17):\n",
        "    if response[i] == 'Yes':\n",
        "      hotels.append(i-6)\n",
        "  for i in range(17,31):\n",
        "    if response[i] == 'Yes':\n",
        "      attractions.append(i-17)\n",
        "  for i in range(31,46):\n",
        "    if response[i] == 'Yes':\n",
        "      restaurants.append(i-31)\n",
        "  return (hotels, attractions, restaurants)"
      ],
      "metadata": {
        "id": "TaNGSaeM34QM"
      },
      "execution_count": 22,
      "outputs": []
    },
    {
      "cell_type": "markdown",
      "source": [
        "Below we introduce a function where we will put all our customer input together and create a prompt to pass to the LLM that will synthesize our itinerary. We should also return a raw list of the components that could be useful later on."
      ],
      "metadata": {
        "id": "0ycqA9v3jmdQ"
      }
    },
    {
      "cell_type": "code",
      "source": [
        "def create_prompt(username, customer_df):\n",
        "    response = customer_df[customer_df[1]==username].values.tolist()\n",
        "    response = response[0]\n",
        "    trip_style = response[2] #partner, family, solo, friends\n",
        "    num_adults = response[3]\n",
        "    num_children = response[4]\n",
        "    num_nights = int(response[5])\n",
        "    misc = response[46]\n",
        "    ####This part of the prompt is the list of hotels, attractions, and restaurants\n",
        "    components = parse_response(response)\n",
        "    hotel_components =  ec.get_components(num_nights,components[0], df_hotels_c, 3)\n",
        "    attraction_components =  ec.get_components(num_nights,components[1], df_attractions_c, 4)\n",
        "    restaurant_components =  ec.get_components(num_nights,components[2], df_restaurants_c, 5)\n",
        "    components = 'HOTELS: ' +  \", \".join(hotel_components) + '. '\\\n",
        "    + 'RESTAURANTS: ' +  \", \".join(restaurant_components) + '. '\\\n",
        "    + 'ATTRACTIONS: ' +  \", \".join(attraction_components) + '. '\n",
        "\n",
        "    ####We now build the full prompt that we will give to the LLM\n",
        "\n",
        "    prompt = 'Hi, I would like to plan a unique and special itinerary for ' + trip_style + ' to Athens, Greece for ' + str(num_nights) + ' nights. ' + \\\n",
        "    'There will be ' + num_adults + ' adults' + ' and ' + num_children + ' children ' + 'including myself. ' + \\\n",
        "    'Can you please put together a detailed itinerary day-by-day that includes accommodations, meals and any other helpful suggestions? Here are some additional details as well - please pay special attention to these: ' + \\\n",
        "    misc + '. Do not forget to minimise travel distance, and explain transportation in detail too. If you mention to take a guided tour, you should suggest at least one specific guided tour company. ' + \\\n",
        "    'I have narrowed down some of my favorite hotels, restaurants and activities below:' + components + 'Please make sure to give me 2 different hotel options to choose from. Make sure to' + \\\n",
        "    ' state which restaurants or locations where we will eat. There must be a specific suggested restaurant for every meal. Give approximate travel time to/from each activity.'\n",
        "\n",
        "\n",
        "\n",
        "    return (prompt, hotel_components, attraction_components, restaurant_components)"
      ],
      "metadata": {
        "id": "DPTB490G75wY"
      },
      "execution_count": 5,
      "outputs": []
    },
    {
      "cell_type": "markdown",
      "source": [
        "Here we now import our LLM which in this case is Google's Gemini model. These contain the following parameters:\n",
        "\n",
        "**Top-p Sampling**\n",
        "\n",
        "By using Top-p sampling, you allow for a more controlled and diverse generation process. It avoids overly repetitive or deterministic outputs that can arise from always selecting the most likely token. Instead, the model has a chance to select from a wider range of options within the nucleus, which promotes more varied and creative text generation.\n",
        "\n",
        "The value of “p” determines the diversity of the generated output. Higher values of “p” result in more randomness and diversity, as a larger number of tokens are considered for sampling. Lower values of “p” lead to more focused and deterministic output, as the model focuses on the most likely tokens.\n",
        "\n",
        "Top-P changes how the model selects tokens for output. Tokens are selected from the most (see top-K) to least probable until the sum of their probabilities equals the top-P value. For example, if tokens A, B, and C have a probability of 0.6, 0.3, 0.1 and the top-P value is 0.9, then the model will select either A or B as the next token by using temperature and excludes C as a candidate.\n",
        "Specify a lower value for less random responses and a higher value for more random responses. The default value of top-P is 1.0.\n",
        "\n",
        "**Top-k Sampling**\n",
        "\n",
        "Top-K changes how the model selects tokens for output. A top-K of 1 means the next selected token is the most probable among all tokens in the model's vocabulary (also called greedy decoding), while a top-K of 3 means that the next token is selected from among the three most probable tokens by using temperature.\n",
        "For each token selection step, the top-K tokens with the highest probabilities are sampled. Then tokens are further filtered based on top-P with the final token selected using temperature sampling.\n",
        "\n",
        "Specify a lower value for less random responses and a higher value for more random responses. The default value of top-K is 32.\n",
        "\n",
        "**Temperature**\n",
        "\n",
        "A higher temperature value (> 1.0) increases the randomness and diversity of the generated output. It makes the model assign more equal probabilities to a wider range of tokens, allowing for more exploration and creative variations in the generated text. This can result in more unexpected and diverse output, but it may also introduce more noise or less coherent responses.\n",
        "\n",
        "On the other hand, a lower temperature value (< 1.0) reduces the randomness and encourages the model to focus on the most probable tokens. It makes the distribution peakier, with higher probabilities assigned to the most likely tokens. This can lead to more deterministic and conservative output, with less variation and more coherent responses.\n"
      ],
      "metadata": {
        "id": "VkOAeDkx_CCC"
      }
    },
    {
      "cell_type": "code",
      "source": [
        "import vertexai\n",
        "vertexai.init(project='travelgen-410711', location=\"us-central1\")\n",
        "\n",
        "import seaborn as sns\n",
        "from IPython.display import Markdown, display\n",
        "from sklearn.metrics.pairwise import cosine_similarity\n",
        "from vertexai.preview.generative_models import GenerativeModel\n",
        "\n",
        "# Load Gemini Pro\n",
        "gemini_pro_model = GenerativeModel(\"gemini-pro\")\n",
        "\n",
        "# Load Gemini Pro Vision\n",
        "gemini_pro_vision_model = GenerativeModel(\"gemini-pro-vision\")"
      ],
      "metadata": {
        "id": "pqn2Tv-ArEc1"
      },
      "execution_count": 6,
      "outputs": []
    },
    {
      "cell_type": "code",
      "source": [
        "def generate(prompt, temperature, top_p, top_k):\n",
        "  #model = GenerativeModel(\"gemini-pro-vision\")\n",
        "  model = GenerativeModel(\"gemini-pro\")\n",
        "  responses = model.generate_content(\n",
        "    prompt,\n",
        "    generation_config={\n",
        "        \"max_output_tokens\": 2048,\n",
        "        \"temperature\": temperature,\n",
        "        \"top_p\": top_p,\n",
        "        \"top_k\": top_k\n",
        "    },\n",
        "  stream=True,\n",
        "  )\n",
        "\n",
        "  text = ''\n",
        "  for i in responses:\n",
        "    text+=i.text\n",
        "  return text"
      ],
      "metadata": {
        "id": "ELjiF-rtrMYS"
      },
      "execution_count": 7,
      "outputs": []
    },
    {
      "cell_type": "code",
      "source": [
        "## Extract the prompt, and raw components.\n",
        "prompt_output = create_prompt('bubonbek1601@gmail.com', customer_df)\n",
        "prompt = prompt_output[0]"
      ],
      "metadata": {
        "id": "5i65FAOMxnLr"
      },
      "execution_count": 23,
      "outputs": []
    },
    {
      "cell_type": "code",
      "source": [
        "prompt"
      ],
      "metadata": {
        "colab": {
          "base_uri": "https://localhost:8080/",
          "height": 295
        },
        "id": "NwXE_65H5u86",
        "outputId": "7a89cf3d-2717-47e5-9e10-f00d2b2af36b"
      },
      "execution_count": 26,
      "outputs": [
        {
          "output_type": "execute_result",
          "data": {
            "text/plain": [
              "\"Hi, I would like to plan a unique and special itinerary for Me and friends to Athens, Greece for 7 nights. There will be 5 adults and 0 children including myself. Can you please put together a detailed itinerary day-by-day that includes accommodations, meals and any other helpful suggestions? Here are some additional details as well - please pay special attention to these: I really like food. And a cozy bed which i can collapse into. And a cocktail.. Do not forget to minimise travel distance, and explain transportation in detail too. If you mention to take a guided tour, you should suggest at least one specific guided tour company. I have narrowed down some of my favorite hotels, restaurants and activities below:HOTELS: Hilton Athens, The Athens Gate Hotel, Hotel Grande Bretagne, A Luxury Collection Hotel, O&B Athens Boutique Hotel, Grand Hyatt Athens, Plaka Hotel, Electra Palace Athens, InnAthens, Wyndham Grand Athens, Attalos Hotel, Herodion Hotel, Coco-Mat Hotel Athens, Crowne Plaza Athens - City Centre, an IHG Hotel, Central Hotel, \\u200bSt. George Lycabettus Lifestyle Hotel, Periscope Hotel, Airotel Alexandros, Amalia Hotel Athens, InterContinental Athenaeum Athens, an IHG Hotel, Villa Brown Ermou, Divani Palace Acropolis, Athens Center Square, NEW Hotel, Andronis Athens. RESTAURANTS: Kozi's, Lithos, Hard Rock Cafe, Ta Karamanlidika tou Fani, Indian Haveli, Piazza Duomo, Oroscopo, Belpaese, Strofi Athenian Restaurant, Mpar Mpee Kiou, Atitamos, BeerTime, Dyo Dekares i Oka, Noodle Bar Syntagma, Tazza, Cinque Wine & Deli Bar, V1935 Roof Garden, GB Roof Garden, Agora Restaurant-Bar, Smile Restaurant, Po' Boys BBQ, Oinomageireio Epirus, Mamacita - Taqueria y Cocteleria, Couleur Locale Athens, Aleria, Diva Pizza, Yard all day bar restaurant, CHE.MA. - Alimos, Athena`s Cook, The James Joyce Irish Pub & Restaurant, O Proedros, Indian Chef, Picky Coffee & Brunch, Bandiera, Vincenzo, Dinner in the Sky. ATTRACTIONS: All Day Cruise, Acropolis Museum, Plaka, Welcome Pickups, Acropolis, A for Athens Cocktail Bar, Elite Tours, Sailing Athens, National Archaeological Museum, Monastiraki, Russian Guide in Athens - Ioannis Dalianidis, Parthenon, Brettos Bar, Athens Taxi Wagon, Athens cruises, Benaki Museum - Museum of Greek Culture, Plateia Syntagmatos, Taxicity, Panathenaic Stadium, The Clumsies, Leo Benakis, Navigare Yachting, Museum of Cycladic Art, National Garden, ATS - Athens Taxi Services, Mount Lycabettus, Baba Au Rum, Nectar & Ambrosia Guided Tours In Athens. Please make sure to give me 2 different hotel options to choose from. Make sure to state which restaurants or locations where we will eat. There must be a specific suggested restaurant for every meal. Give approximate travel time to/from each activity.\""
            ],
            "application/vnd.google.colaboratory.intrinsic+json": {
              "type": "string"
            }
          },
          "metadata": {},
          "execution_count": 26
        }
      ]
    },
    {
      "cell_type": "code",
      "source": [],
      "metadata": {
        "id": "xqRhOiez1oYh"
      },
      "execution_count": null,
      "outputs": []
    },
    {
      "cell_type": "code",
      "source": [
        "responses = generate(prompt, 0.0, 1.0, 25)\n",
        "display(Markdown(responses))"
      ],
      "metadata": {
        "colab": {
          "base_uri": "https://localhost:8080/",
          "height": 633
        },
        "id": "xJo7TOuxrTMa",
        "outputId": "c672fc27-37b4-4f76-9467-9733ace2cbfd"
      },
      "execution_count": null,
      "outputs": [
        {
          "output_type": "display_data",
          "data": {
            "text/plain": [
              "<IPython.core.display.Markdown object>"
            ],
            "text/markdown": "**Day 1**\n\n* **Morning:** Arrive at Athens International Airport (ATH) and take the metro to Syntagma Square (approx. 45 minutes).\n* **Hotel:** Check in to The Athens Gate Hotel (luxury option) or Plaka Hotel (mid-range option).\n* **Lunch:** Psomi & Alati (traditional Greek cuisine)\n* **Afternoon:** Visit the Acropolis Museum (approx. 1 hour).\n* **Evening:** Dinner at Lithos (rooftop restaurant with panoramic views)\n\n**Day 2**\n\n* **Morning:** Explore the ancient ruins of the Acropolis (approx. 2 hours).\n* **Lunch:** Mani Mani (authentic Peloponnesian cuisine)\n* **Afternoon:** Take a guided tour of Plaka with Chat Tours (approx. 2 hours).\n* **Evening:** Dinner at The Greco's Project (modern Greek gastronomy)\n\n**Day 3**\n\n* **Morning:** Visit the National Archaeological Museum (approx. 2 hours).\n* **Lunch:** Efcharis (traditional Greek tavern)\n* **Afternoon:** Take an all-day cruise to the Saronic Islands with Athens Cruises (approx. 8 hours).\n* **Evening:** Dinner on board the cruise ship\n\n**Day 4**\n\n* **Morning:** Visit the Benaki Museum - Museum of Greek Culture (approx. 2 hours).\n* **Lunch:** All That Jatz (Mediterranean cuisine)\n* **Afternoon:** Explore the vibrant Monastiraki neighborhood.\n* **Evening:** Farewell dinner at GB Roof Garden (rooftop restaurant with stunning city views)\n\n**Transportation:**\n\n* Metro: Use the Athens Metro to travel between the airport, Syntagma Square, and the Acropolis Museum (approx. 15-20 minutes).\n* Walking: Most attractions in the city center are within walking distance of each other.\n* Taxi: Taxis are readily available and affordable.\n\n**Additional Tips:**\n\n* Book your hotel and guided tours in advance, especially during peak season.\n* Purchase an Athens City Pass for discounted admission to museums and attractions.\n* Learn a few basic Greek phrases to enhance your interactions.\n* Allow ample time for walking and exploring the city's charming streets.\n* Consider visiting during the shoulder season (April-May or September-October) for fewer crowds and more pleasant weather."
          },
          "metadata": {}
        }
      ]
    },
    {
      "cell_type": "markdown",
      "source": [
        "We can see above the result given the extensive prompt. While the itinerary created is good, there are still a few aspects which the LLM did not correctly, and others that from user feedback could be incorporated. Initial user comments:\n",
        "\n",
        "1. How to get from one activity to another and how long it takes is not included\n",
        "2. Would be nice to include links to the activities*(could incorporate via RAG/API)*\n",
        "3. Some of the itinerary looks quite ambitious e.g. a lot of activities in one day, the amount of activities that are feasible will depend on the traveler\n",
        "4. There are some activities that are too general e.g. Enjoy rock concert at local venue. This doesn't state where or how this could work.\n",
        "\n",
        "\n",
        "To remedy some of these, we will implement a few-shot response as opposed to one-shot. Context is generally provided to the LLM by giving it the previous queries/responses. This moving context window for Google's Gemini gives us 2048 tokens(around 2048 words) so we will keep this mind."
      ],
      "metadata": {
        "id": "eTqqYp3hJJuI"
      }
    },
    {
      "cell_type": "code",
      "source": [
        "chat = gemini_pro_model.start_chat()\n",
        "from vertexai.preview.generative_models import ChatSession\n",
        "\n",
        "def get_chat_response(chat, prompt):\n",
        "    response = chat.send_message(prompt)\n",
        "    return response.text\n",
        "\n",
        "\n"
      ],
      "metadata": {
        "id": "_Q6z684STITe"
      },
      "execution_count": 24,
      "outputs": []
    },
    {
      "cell_type": "code",
      "source": [
        "response1 = get_chat_response(chat, prompt)\n",
        "\n",
        "prompt2 = \"Keep the itinerary text and formatting as is, and make sure that method of transportation and how long it takes is given for every meal and activity. Optimize the itinerary to minimize travel distance by grouping activities/restaurants in a similar location. Make sure to include meals for breakfast, lunch and dinner. \\\n",
        "Make sure to mention a specific tour company for any tours. \"\n",
        "response2 = get_chat_response(chat, prompt2)\n",
        "\n",
        "prompt3 = \"Add the approximate costs for each activity and restaurant, keeping the formatting as is and make sure there is are at least 2 contrasting choices of hotel. Make sure the distances between locations are correct. There are some walking distances that are incorrect\"\n",
        "response3 = get_chat_response(chat, prompt3)\n",
        "\n"
      ],
      "metadata": {
        "id": "su9N81Sj3F_Y"
      },
      "execution_count": 25,
      "outputs": []
    },
    {
      "cell_type": "code",
      "source": [
        "prompt4 = 'Please  give me the itinerary again with the following prioritized: I really like food. And a cozy bed which i can collapse into. And a cocktail.'\n",
        "response4 = get_chat_response(chat, prompt4)"
      ],
      "metadata": {
        "id": "8L2vdh26R9ui"
      },
      "execution_count": 27,
      "outputs": []
    },
    {
      "cell_type": "code",
      "source": [
        "display(Markdown(response3))"
      ],
      "metadata": {
        "colab": {
          "base_uri": "https://localhost:8080/",
          "height": 773
        },
        "id": "T1VaXlsa58cX",
        "outputId": "3222fd9c-7d51-4202-abc5-6c7be83cb4e9"
      },
      "execution_count": null,
      "outputs": [
        {
          "output_type": "display_data",
          "data": {
            "text/plain": [
              "<IPython.core.display.Markdown object>"
            ],
            "text/markdown": "**Day 1**\n\n* **Morning:** Check in to your hotel, **The Artist Athens** (approx. €120/night).\n* **Breakfast:** Enjoy breakfast at your hotel's rooftop terrace (approx. €15).\n* **Afternoon:** Visit the **Acropolis Museum** (approx. €10 entrance fee; 45 min. walk).\n* **Lunch:** Have a light lunch at the Acropolis Museum's café (approx. €10).\n* **Dinner:** Have a traditional Greek meal at **Psomi & Alati** near the Acropolis (approx. €20; 15 min. walk).\n\n**Day 2**\n\n* **Morning:** Take a **guided tour of the Acropolis** with **Chat Tours** (approx. €30; 2 hours).\n* **Lunch:** Enjoy a post-tour lunch at **Strofi** restaurant near the Acropolis (approx. €15; 5 min. walk).\n* **Afternoon:** Stroll through the picturesque neighborhood of **Plaka** (15 min. walk). Visit boutiques and admire the charming architecture.\n* **Dinner:** Dine at **Mani Mani** in Plaka for authentic Greek cuisine (approx. €25; 20 min. walk).\n\n**Day 3**\n\n* **Morning:** Visit the **National Archaeological Museum** (approx. €10 entrance fee; 20 min. walk). Discover a vast collection of Greek antiquities, including sculptures, pottery, and jewelry.\n* **Lunch:** Have a quick lunch at the museum's café (approx. €10).\n* **Afternoon:** Explore the vibrant flea market in **Monastiraki** (15 min. walk). Browse for unique souvenirs and antiques.\n* **Dinner:** Enjoy a rooftop meal with panoramic city views at **V1935 Roof Garden** near Syntagma Square (approx. €30; 15 min. walk).\n\n**Day 4**\n\n* **Morning:** Take a day trip to the island of **Hydra** by ferry (approx. €25 round-trip; 1.5 hours by ferry). Explore the car-free streets, visit art galleries, and enjoy the scenic harbor.\n* **Lunch:** Have a seafood lunch at a restaurant on Hydra (approx. €20).\n* **Afternoon:** Return to Athens in the evening.\n* **Dinner:** Have a farewell meal at **Belpaese** (approx. €25; 15 min. walk).\n\n**Day 5**\n\n* **Morning:** Visit the **Museum of Cycladic Art** (approx. €10 entrance fee; 30 min. walk). Admire the extensive collection of ancient Cycladic sculptures and artifacts.\n* **Lunch:** Have lunch at the museum's café (approx. €10).\n* **Afternoon:** Take an **Athens by Bike** guided tour (approx. €35; 3 hours; book online). Explore the city's highlights from a unique perspective.\n* **Dinner:** Try modern Greek cuisine at **Thes \"Greek Creative Cuisine\"** (approx. €25; 25 min. walk).\n\n**Day 6**\n\n* **Morning:** Check out of your hotel.\n* **Breakfast:** Enjoy a final breakfast at your hotel (approx. €15).\n* **Afternoon:** Visit the **Benaki Museum** (approx. €10 entrance fee; 20 min. walk). Explore its collections of Greek and Islamic art.\n* **Lunch:** Have a light lunch at the museum's café (approx. €10).\n* **Evening:** Depart from Athens.\n\n**Alternative Hotel:**\n\n* **Coco-Mat Hotel Athens** (approx. €150/night): An eco-friendly hotel with a rooftop pool and a focus on sustainability, located in Kolonaki.\n\n**Note:** The walking distances and times provided are approximate and may vary depending on your pace and the specific route you take."
          },
          "metadata": {}
        }
      ]
    },
    {
      "cell_type": "code",
      "source": [
        "display(Markdown(response4))"
      ],
      "metadata": {
        "colab": {
          "base_uri": "https://localhost:8080/",
          "height": 1000
        },
        "id": "4YARCQhmRjRJ",
        "outputId": "e734a448-65a4-4057-f652-eb815e4b4018"
      },
      "execution_count": 28,
      "outputs": [
        {
          "output_type": "display_data",
          "data": {
            "text/plain": [
              "<IPython.core.display.Markdown object>"
            ],
            "text/markdown": "## Optimized 7-Night Athens Itinerary for Foodies: Prioritizing Food, Cozy Beds, and Cocktails\n\nThis revised itinerary prioritizes your love for delicious food, comfortable accommodations, and enjoying a cocktail or two. It ensures you have cozy beds to sink into after a day of exploring and indulging in culinary delights.\n\n### Day 1:\n\n* **Morning:** Arrive at Athens International Airport (ATH). Take the metro line 3 (blue line) directly to Syntagma Square (~40 minutes, €10). Check into your chosen hotel:\n    * **Luxury:** Hotel Grande Bretagne, A Luxury Collection Hotel (5-star, centrally located, stunning views, €350+/night, luxurious beds, elegant rooftop bar)\n    * **Mid-range:** O&B Athens Boutique Hotel (4-star, stylish, rooftop terrace, €150+/night, comfortable beds, rooftop bar with city views)\n* **Lunch:** Enjoy a traditional Greek lunch at **Ta Karamanlidika tou Fani** in Plaka (5-minute walk from Syntagma Square, €20-30 per person, delicious meze platters, friendly atmosphere).\n* **Afternoon:** Explore the Acropolis complex, including the Parthenon, Erechtheion, and Temple of Athena Nike. Join a guided tour with **Nectar & Ambrosia** for in-depth insights and skip-the-line access. (~2-hour tour, €70 per person)\n* **Evening:** Dine at **Oroscopo**, a Michelin-starred restaurant with innovative Greek cuisine and stunning Acropolis views. Afterward, head to the rooftop bar **A for Athens** for cocktails with panoramic city vistas. (Both within a 5-minute walk of the Acropolis, €50-70 per person for dinner, €15-20 per cocktail)\n\n### Day 2:\n\n* **Morning:** Visit the National Archaeological Museum, home to an extensive collection of ancient Greek artifacts. (~15-minute walk from Plaka or a short metro ride, €10 entrance fee)\n* **Lunch:** Have a casual lunch at **Smile Restaurant**, offering traditional Greek cuisine near the museum (~5-minute walk, €15-20 per person, delicious homemade dishes, friendly service).\n* **Afternoon:** Stroll through the charming Plaka district, with its narrow streets, souvenir shops, and historical buildings.\n* **Evening:** Experience a unique dining experience at **Dinner in the Sky**, enjoying a gourmet meal suspended 50 meters above the ground with breathtaking views. (Location varies, transportation time may vary, €300 per person)\n* **Later:** Relax and enjoy a cocktail at the **Brettos Bar** in Monastiraki, renowned for its live music and energetic atmosphere.\n\n### Day 3:\n\n* **Morning:** Take a scenic hike up Mount Lycabettus, offering panoramic views of the city. (~15-minute walk from Syntagma Square or a short taxi ride, €5-10 taxi fare)\n* **Lunch:** Have a picnic lunch at the top of Mount Lycabettus, enjoying the breathtaking vistas.\n* **Afternoon:** Learn to cook traditional Greek dishes at a hands-on cooking class with **Cookly** in Monastiraki. (~15-minute walk from Mount Lycabettus or a short metro ride, €70 per person)\n* **Evening:** Enjoy the fruits of your labor at the cooking class itself, savoring the dishes you prepared.\n* **Later:** Experience the vibrant nightlife of Athens at **Brettos Bar** in Monastiraki, renowned for its live music and energetic atmosphere.\n\n### Day 4:\n\n* **Morning:** Visit the Benaki Museum, housing a diverse collection of Greek art and history. (~10-minute walk from Monastiraki or a short metro ride, €10 entrance fee)\n* **Lunch:** Have a delightful lunch at **Funky Gourmet** in Neos Kosmos, a Michelin-starred restaurant with creative and playful interpretations of Greek cuisine (~30-minute metro ride from Monastiraki, €50-70 per person, creative dishes, innovative cocktails).\n* **Afternoon:** Relax and rejuvenate at a traditional hammam, such as the **Hammam Baths of Athens** in Monastiraki. (~10-minute walk from the Benaki Museum, €40 per person)\n* **Evening:** Dine at **Botrini's** in Kifissia, a contemporary fine dining restaurant with a focus on seasonal ingredients. (~40-minute taxi ride from Monastiraki, €100+ per person, exquisite cuisine, sophisticated ambiance).\n\n### Day 5:\n\n* **Morning:** Take a full-day cruise to the Saronic Islands, including Hydra, Poros, and Aegina. Relax on the beaches, explore the picturesque villages, and enjoy swimming in the crystal-clear waters. (~1-hour ferry ride from Piraeus port, €50-70 per person)\n* **Lunch:** Enjoy a delicious seafood lunch onboard the cruise.\n* **Dinner:** Have a casual dinner at a taverna on one of the islands, savoring the local cuisine and ambiance.\n\n### Day 6:\n\n* **Morning:** Visit the Acropolis Museum, showcasing the archaeological finds from the Acropolis. (~15-minute walk from Plaka or a short metro ride, €10 entrance fee)\n* **Lunch:** Have a traditional Greek lunch at **Oroscopo** in Plaka, a Michelin-starred restaurant with innovative Greek cuisine and stunning Acropolis views.\n* **Afternoon:** Explore the vibrant Monastiraki flea market, searching for unique souvenirs and hidden treasures.\n* **Evening:** Spend a memorable evening at the **Gazarte**, a cultural center with live music, art exhibitions, and a variety of restaurants and bars. (10-minute walk from Monastiraki)\n\n### Day 7:\n\n* **Morning:** Enjoy a leisurely breakfast at your hotel.\n* **Mid-morning:** Visit the Panathenaic Stadium, where the first modern Olympic Games were held. (~20-minute walk from Syntagma Square or a short metro ride, free entry)\n* **Lunch:** Have a farewell lunch at **Oinomageireio Epirus** in Syntagma Square, a traditional taverna serving authentic Greek dishes.\n* **Afternoon:** Depart from Athens International Airport (ATH).\n\n### Transportation:\n\n* **Metro:** Athens has an efficient metro system that connects most major attractions. You can purchase tickets at stations or online.\n* **Taxis:** Taxis are readily available throughout the city and can be hailed on the street or pre-booked through **Athens Taxi Wagon** or **Taxicity**.\n* **Walking:** Many attractions are within walking distance of each other, especially in the Plaka and Monastiraki areas.\n\nThis itinerary prioritizes your preferences for delicious food, comfortable accommodations, and enjoying a cocktail or two. You'll have ample opportunities to indulge in culinary delights, relax in cozy beds, and sip on refreshing cocktails while experiencing the many wonders of Athens. Remember to adjust the restaurant choices based on your specific dietary preferences and budget. Enjoy your trip!"
          },
          "metadata": {}
        }
      ]
    },
    {
      "cell_type": "code",
      "source": [
        "prompt5 = 'please give me the itinerary again with the costs added too!'\n",
        "response5 = get_chat_response(chat, prompt5)\n",
        "display(Markdown(response5))\n"
      ],
      "metadata": {
        "colab": {
          "base_uri": "https://localhost:8080/",
          "height": 645
        },
        "id": "IcmA1pFGwq6I",
        "outputId": "9d19e7f0-aee0-4a8c-beb2-f545759c2cef"
      },
      "execution_count": null,
      "outputs": [
        {
          "output_type": "display_data",
          "data": {
            "text/plain": [
              "<IPython.core.display.Markdown object>"
            ],
            "text/markdown": "**Day 1**\n\n* **Morning:** Check in to your hotel, **The Artist Athens** (approx. €120/night).\n* **Afternoon:** Visit the **Acropolis Museum** (approx. €10 entrance fee; 45 min. walk). Explore the museum's collection of ancient artifacts from the Acropolis site.\n* **Dinner:** Have a traditional Greek meal at **Psomi & Alati** near the Acropolis (approx. €20; 15 min. walk).\n\n**Day 2**\n\n* **Morning:** Take a **guided tour of the Acropolis** with **Chat Tours** (approx. €30; 2 hours). Learn about the history and significance of this iconic site.\n* **Afternoon:** Stroll through the picturesque neighborhood of **Plaka** (15 min. walk). Visit boutiques and admire the charming architecture.\n* **Dinner:** Dine at **Mani Mani** in Plaka for authentic Greek cuisine (approx. €25; 20 min. walk).\n\n**Day 3**\n\n* **Morning:** Visit the **National Archaeological Museum** (approx. €10 entrance fee; 20 min. walk). Discover a vast collection of Greek antiquities, including sculptures, pottery, and jewelry.\n* **Afternoon:** Take an **Athens by Bike** guided tour (approx. €35; 3 hours; book online). Explore the city's highlights from a unique perspective.\n* **Dinner:** Try modern Greek cuisine at **Thes \"Greek Creative Cuisine\"** (approx. €25; 25 min. walk).\n\n**Day 4**\n\n* **Morning:** Take a day trip to the island of **Hydra** by ferry (approx. €25 round-trip; 1.5 hours by ferry). Explore the car-free streets, visit art galleries, and enjoy the scenic harbor.\n* **Afternoon:** Return to Athens in the evening.\n* **Dinner:** Have a farewell meal at **Belpaese** (approx. €25; 15 min. walk).\n\n**Day 5**\n\n* **Morning:** Visit the **Museum of Cycladic Art** (approx. €10 entrance fee; 30 min. walk). Admire the extensive collection of ancient Cycladic sculptures and artifacts.\n* **Afternoon:** Visit the **Benaki Museum** (approx. €10 entrance fee; 20 min. walk). Explore its collections of Greek and Islamic art.\n* **Dinner:** Enjoy a rooftop meal with panoramic city views at **V1935 Roof Garden** near Syntagma Square (approx. €30; 15 min. walk).\n\n**Day 6**\n\n* **Morning:** Check out of your hotel.\n* **Afternoon:** Explore the vibrant flea market in **Monastiraki** (approx. 15 min. walk). Browse for unique souvenirs and antiques.\n* **Evening:** Depart from Athens.\n\n**Total Cost:** Approx. €340 (excluding breakfast and any additional expenses).\n\n**Note:** The walking distances and times provided are approximate and may vary depending on your pace and the specific route you take."
          },
          "metadata": {}
        }
      ]
    },
    {
      "cell_type": "markdown",
      "source": [
        "Above we can see the output after constructing a series of 3 prompts that improves on the base prompt. Few-shot prompting allows the LLM to complete multiple tasks when putting them all in a single prompt is too much for it too handle.\n",
        "\n",
        "**Saving the selected itinerary and its components:**\n",
        "\n",
        "It also may be useful save the list of trip components that the LLM chose. For example we may to save this to a user's profile, pull up a few reviews for the user, or even show the user a map with the locations of their trip components.\n",
        "\n",
        "We could ask the LLM to format these and feed them back into a structure that we can parse. But this is an expensive operation. Below we do introduce a function that takes the prompt output, and matches exact strings to get a list of components that we incorporated.\n"
      ],
      "metadata": {
        "id": "0uvBJ9dBxR6d"
      }
    },
    {
      "cell_type": "code",
      "source": [
        "###First we remember which components we included in the first prompt\n",
        "hotel_components = prompt_output[1]\n",
        "attraction_components = prompt_output[2]\n",
        "restaurant_components = prompt_output[3]"
      ],
      "metadata": {
        "id": "ULEJFaEAM0J_"
      },
      "execution_count": 29,
      "outputs": []
    },
    {
      "cell_type": "code",
      "source": [
        "##Takes a list of components, and a text, and returns a list of components that were found in the text\n",
        "def chosen_components(components, text):\n",
        "    chosen = []\n",
        "    for component in components:\n",
        "        if component in text:\n",
        "            chosen.append(component)\n",
        "\n",
        "    return chosen"
      ],
      "metadata": {
        "id": "RX1O3SPYIKV5"
      },
      "execution_count": 30,
      "outputs": []
    },
    {
      "cell_type": "code",
      "source": [
        "def get_URLs(chosen, df):  ##chosen is a list of component names, df is the master database csv.\n",
        "    URLs = ' \\n '\n",
        "    for i in chosen:\n",
        "        URLs+= '\\n ' + i + ': ' + df[df['name'] == i]['webUrl'].values[0] + '\\n '\n",
        "    return URLs"
      ],
      "metadata": {
        "id": "B66D8aYqIEmK"
      },
      "execution_count": 31,
      "outputs": []
    },
    {
      "cell_type": "code",
      "source": [
        "def create_links_list(restaurant_components, hotel_components, attraction_components, response):\n",
        "  restaurant_components = chosen_components(restaurant_components, response)\n",
        "  hotel_components = chosen_components(hotel_components, response)\n",
        "  attraction_components = chosen_components(attraction_components, response)\n",
        "\n",
        "  ##Takes in the components originally used to construct the initial prompt, and the response from the LLM\n",
        "  ##Returns a list of TripAdvisor links for those components\n",
        "  all_components = get_URLs(restaurant_components, df_restaurants_c) + get_URLs(hotel_components, df_hotels_c) + get_URLs(attraction_components, df_attractions_c)\n",
        "  return all_components"
      ],
      "metadata": {
        "id": "yIe4TIZJHRxU"
      },
      "execution_count": 32,
      "outputs": []
    },
    {
      "cell_type": "code",
      "source": [
        "response_with_links = response4 + create_links_list(restaurant_components, hotel_components, attraction_components, response3)"
      ],
      "metadata": {
        "id": "2pblLMtoGOn4"
      },
      "execution_count": 33,
      "outputs": []
    },
    {
      "cell_type": "code",
      "source": [
        "display(Markdown(response_with_links))"
      ],
      "metadata": {
        "colab": {
          "base_uri": "https://localhost:8080/",
          "height": 1000
        },
        "id": "QUpmVYeQDY-I",
        "outputId": "1057ad86-1776-4f33-e685-e83faf53586f"
      },
      "execution_count": 34,
      "outputs": [
        {
          "output_type": "display_data",
          "data": {
            "text/plain": [
              "<IPython.core.display.Markdown object>"
            ],
            "text/markdown": "## Optimized 7-Night Athens Itinerary for Foodies: Prioritizing Food, Cozy Beds, and Cocktails\n\nThis revised itinerary prioritizes your love for delicious food, comfortable accommodations, and enjoying a cocktail or two. It ensures you have cozy beds to sink into after a day of exploring and indulging in culinary delights.\n\n### Day 1:\n\n* **Morning:** Arrive at Athens International Airport (ATH). Take the metro line 3 (blue line) directly to Syntagma Square (~40 minutes, €10). Check into your chosen hotel:\n    * **Luxury:** Hotel Grande Bretagne, A Luxury Collection Hotel (5-star, centrally located, stunning views, €350+/night, luxurious beds, elegant rooftop bar)\n    * **Mid-range:** O&B Athens Boutique Hotel (4-star, stylish, rooftop terrace, €150+/night, comfortable beds, rooftop bar with city views)\n* **Lunch:** Enjoy a traditional Greek lunch at **Ta Karamanlidika tou Fani** in Plaka (5-minute walk from Syntagma Square, €20-30 per person, delicious meze platters, friendly atmosphere).\n* **Afternoon:** Explore the Acropolis complex, including the Parthenon, Erechtheion, and Temple of Athena Nike. Join a guided tour with **Nectar & Ambrosia** for in-depth insights and skip-the-line access. (~2-hour tour, €70 per person)\n* **Evening:** Dine at **Oroscopo**, a Michelin-starred restaurant with innovative Greek cuisine and stunning Acropolis views. Afterward, head to the rooftop bar **A for Athens** for cocktails with panoramic city vistas. (Both within a 5-minute walk of the Acropolis, €50-70 per person for dinner, €15-20 per cocktail)\n\n### Day 2:\n\n* **Morning:** Visit the National Archaeological Museum, home to an extensive collection of ancient Greek artifacts. (~15-minute walk from Plaka or a short metro ride, €10 entrance fee)\n* **Lunch:** Have a casual lunch at **Smile Restaurant**, offering traditional Greek cuisine near the museum (~5-minute walk, €15-20 per person, delicious homemade dishes, friendly service).\n* **Afternoon:** Stroll through the charming Plaka district, with its narrow streets, souvenir shops, and historical buildings.\n* **Evening:** Experience a unique dining experience at **Dinner in the Sky**, enjoying a gourmet meal suspended 50 meters above the ground with breathtaking views. (Location varies, transportation time may vary, €300 per person)\n* **Later:** Relax and enjoy a cocktail at the **Brettos Bar** in Monastiraki, renowned for its live music and energetic atmosphere.\n\n### Day 3:\n\n* **Morning:** Take a scenic hike up Mount Lycabettus, offering panoramic views of the city. (~15-minute walk from Syntagma Square or a short taxi ride, €5-10 taxi fare)\n* **Lunch:** Have a picnic lunch at the top of Mount Lycabettus, enjoying the breathtaking vistas.\n* **Afternoon:** Learn to cook traditional Greek dishes at a hands-on cooking class with **Cookly** in Monastiraki. (~15-minute walk from Mount Lycabettus or a short metro ride, €70 per person)\n* **Evening:** Enjoy the fruits of your labor at the cooking class itself, savoring the dishes you prepared.\n* **Later:** Experience the vibrant nightlife of Athens at **Brettos Bar** in Monastiraki, renowned for its live music and energetic atmosphere.\n\n### Day 4:\n\n* **Morning:** Visit the Benaki Museum, housing a diverse collection of Greek art and history. (~10-minute walk from Monastiraki or a short metro ride, €10 entrance fee)\n* **Lunch:** Have a delightful lunch at **Funky Gourmet** in Neos Kosmos, a Michelin-starred restaurant with creative and playful interpretations of Greek cuisine (~30-minute metro ride from Monastiraki, €50-70 per person, creative dishes, innovative cocktails).\n* **Afternoon:** Relax and rejuvenate at a traditional hammam, such as the **Hammam Baths of Athens** in Monastiraki. (~10-minute walk from the Benaki Museum, €40 per person)\n* **Evening:** Dine at **Botrini's** in Kifissia, a contemporary fine dining restaurant with a focus on seasonal ingredients. (~40-minute taxi ride from Monastiraki, €100+ per person, exquisite cuisine, sophisticated ambiance).\n\n### Day 5:\n\n* **Morning:** Take a full-day cruise to the Saronic Islands, including Hydra, Poros, and Aegina. Relax on the beaches, explore the picturesque villages, and enjoy swimming in the crystal-clear waters. (~1-hour ferry ride from Piraeus port, €50-70 per person)\n* **Lunch:** Enjoy a delicious seafood lunch onboard the cruise.\n* **Dinner:** Have a casual dinner at a taverna on one of the islands, savoring the local cuisine and ambiance.\n\n### Day 6:\n\n* **Morning:** Visit the Acropolis Museum, showcasing the archaeological finds from the Acropolis. (~15-minute walk from Plaka or a short metro ride, €10 entrance fee)\n* **Lunch:** Have a traditional Greek lunch at **Oroscopo** in Plaka, a Michelin-starred restaurant with innovative Greek cuisine and stunning Acropolis views.\n* **Afternoon:** Explore the vibrant Monastiraki flea market, searching for unique souvenirs and hidden treasures.\n* **Evening:** Spend a memorable evening at the **Gazarte**, a cultural center with live music, art exhibitions, and a variety of restaurants and bars. (10-minute walk from Monastiraki)\n\n### Day 7:\n\n* **Morning:** Enjoy a leisurely breakfast at your hotel.\n* **Mid-morning:** Visit the Panathenaic Stadium, where the first modern Olympic Games were held. (~20-minute walk from Syntagma Square or a short metro ride, free entry)\n* **Lunch:** Have a farewell lunch at **Oinomageireio Epirus** in Syntagma Square, a traditional taverna serving authentic Greek dishes.\n* **Afternoon:** Depart from Athens International Airport (ATH).\n\n### Transportation:\n\n* **Metro:** Athens has an efficient metro system that connects most major attractions. You can purchase tickets at stations or online.\n* **Taxis:** Taxis are readily available throughout the city and can be hailed on the street or pre-booked through **Athens Taxi Wagon** or **Taxicity**.\n* **Walking:** Many attractions are within walking distance of each other, especially in the Plaka and Monastiraki areas.\n\nThis itinerary prioritizes your preferences for delicious food, comfortable accommodations, and enjoying a cocktail or two. You'll have ample opportunities to indulge in culinary delights, relax in cozy beds, and sip on refreshing cocktails while experiencing the many wonders of Athens. Remember to adjust the restaurant choices based on your specific dietary preferences and budget. Enjoy your trip! \n \n Lithos: https://www.tripadvisor.com/Restaurant_Review-g189400-d1151377-Reviews-Lithos-Athens_Attica.html\n \n Ta Karamanlidika tou Fani: https://www.tripadvisor.com/Restaurant_Review-g189400-d6852056-Reviews-Ta_Karamanlidika_tou_Fani-Athens_Attica.html\n \n Oroscopo: https://www.tripadvisor.com/Restaurant_Review-g189400-d2186282-Reviews-Oroscopo-Athens_Attica.html\n \n Smile Restaurant: https://www.tripadvisor.com/Restaurant_Review-g189400-d1902225-Reviews-Smile_Restaurant-Athens_Attica.html\n \n Oinomageireio Epirus: https://www.tripadvisor.com/Restaurant_Review-g189400-d7794299-Reviews-Oinomageireio_Epirus-Athens_Attica.html\n \n Dinner in the Sky: https://www.tripadvisor.com/Restaurant_Review-g189400-d7825999-Reviews-Dinner_in_the_Sky-Athens_Attica.html\n  \n \n Hotel Grande Bretagne, A Luxury Collection Hotel: https://www.tripadvisor.com/Hotel_Review-g189400-d198715-Reviews-Hotel_Grande_Bretagne_A_Luxury_Collection_Hotel-Athens_Attica.html\n \n O&B Athens Boutique Hotel: https://www.tripadvisor.com/Hotel_Review-g189400-d607425-Reviews-O_B_Athens_Boutique_Hotel-Athens_Attica.html\n  \n \n Acropolis Museum: https://www.tripadvisor.com/Attraction_Review-g189400-d735521-Reviews-Acropolis_Museum-Athens_Attica.html\n \n Plaka: https://www.tripadvisor.com/Attraction_Review-g189400-d277449-Reviews-Plaka-Athens_Attica.html\n \n Acropolis: https://www.tripadvisor.com/Attraction_Review-g189400-d198706-Reviews-Acropolis-Athens_Attica.html\n \n National Archaeological Museum: https://www.tripadvisor.com/Attraction_Review-g189400-d198713-Reviews-National_Archaeological_Museum-Athens_Attica.html\n \n Monastiraki: https://www.tripadvisor.com/Attraction_Review-g189400-d265865-Reviews-Monastiraki-Athens_Attica.html\n \n Parthenon: https://www.tripadvisor.com/Attraction_Review-g189400-d198711-Reviews-Parthenon-Athens_Attica.html\n \n Brettos Bar: https://www.tripadvisor.com/Attraction_Review-g189400-d523153-Reviews-Brettos_Bar-Athens_Attica.html\n \n Athens Taxi Wagon: https://www.tripadvisor.com/Attraction_Review-g189400-d12232077-Reviews-Athens_Taxi_Wagon-Athens_Attica.html\n \n Taxicity: https://www.tripadvisor.com/Attraction_Review-g189400-d7276748-Reviews-Taxicity-Athens_Attica.html\n \n Panathenaic Stadium: https://www.tripadvisor.com/Attraction_Review-g189400-d245991-Reviews-Panathenaic_Stadium-Athens_Attica.html\n \n Mount Lycabettus: https://www.tripadvisor.com/Attraction_Review-g189400-d245989-Reviews-Mount_Lycabettus-Athens_Attica.html\n "
          },
          "metadata": {}
        }
      ]
    }
  ]
}