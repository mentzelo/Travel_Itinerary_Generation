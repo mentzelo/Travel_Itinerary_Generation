{
 "cells": [
  {
   "cell_type": "code",
   "execution_count": 1,
   "id": "0037b0e1",
   "metadata": {},
   "outputs": [],
   "source": [
    "import numpy as np\n",
    "import pandas as pd\n",
    "\n",
    "df = pd.read_csv('attraction reviews.csv', low_memory = False)\n",
    "df = df[[col for col in df.columns if 'photo' not in col]]  # Create a new DataFrame with filtered \n",
    "#columns that get rid of all the 'photo' columns\n",
    "\n",
    "\n"
   ]
  },
  {
   "cell_type": "code",
   "execution_count": 2,
   "id": "6bdfe7ae",
   "metadata": {},
   "outputs": [
    {
     "data": {
      "text/plain": [
       "Index(['helpfulVotes', 'id', 'lang', 'locationId', 'ownerResponse',\n",
       "       'ownerResponse/connectionToSubject', 'ownerResponse/id',\n",
       "       'ownerResponse/lang', 'ownerResponse/publishedDate',\n",
       "       'ownerResponse/responder', 'ownerResponse/text', 'placeInfo/address',\n",
       "       'placeInfo/addressObj/city', 'placeInfo/addressObj/country',\n",
       "       'placeInfo/addressObj/postalcode', 'placeInfo/addressObj/state',\n",
       "       'placeInfo/addressObj/street1', 'placeInfo/addressObj/street2',\n",
       "       'placeInfo/latitude', 'placeInfo/locationString', 'placeInfo/longitude',\n",
       "       'placeInfo/name', 'placeInfo/numberOfReviews', 'placeInfo/rating',\n",
       "       'placeInfo/ratingHistogram/count1', 'placeInfo/ratingHistogram/count2',\n",
       "       'placeInfo/ratingHistogram/count3', 'placeInfo/ratingHistogram/count4',\n",
       "       'placeInfo/ratingHistogram/count5', 'placeInfo/webUrl',\n",
       "       'placeInfo/website', 'publishedDate', 'publishedPlatform', 'rating',\n",
       "       'roomTip', 'text', 'title', 'travelDate', 'tripType', 'url', 'user'],\n",
       "      dtype='object')"
      ]
     },
     "execution_count": 2,
     "metadata": {},
     "output_type": "execute_result"
    }
   ],
   "source": [
    "df.columns"
   ]
  },
  {
   "cell_type": "markdown",
   "id": "9030f766",
   "metadata": {},
   "source": [
    "Our goal is to cluster the data into groups that have minimal separation to better understand what differentiates restaurants."
   ]
  },
  {
   "cell_type": "code",
   "execution_count": 3,
   "id": "00e9481b",
   "metadata": {},
   "outputs": [
    {
     "data": {
      "text/plain": [
       "0                                  Wine O'Clock\n",
       "1                                  Wine O'Clock\n",
       "2                                  Wine O'Clock\n",
       "3                                  Wine O'Clock\n",
       "4                                  Wine O'Clock\n",
       "                          ...                  \n",
       "15107    Velitour Elite Tourism Services Greece\n",
       "15108    Velitour Elite Tourism Services Greece\n",
       "15109    Velitour Elite Tourism Services Greece\n",
       "15110    Velitour Elite Tourism Services Greece\n",
       "15111    Velitour Elite Tourism Services Greece\n",
       "Name: placeInfo/name, Length: 15112, dtype: object"
      ]
     },
     "execution_count": 3,
     "metadata": {},
     "output_type": "execute_result"
    }
   ],
   "source": [
    "df['placeInfo/name']\n",
    "## The place name we will use as reference"
   ]
  },
  {
   "cell_type": "code",
   "execution_count": 4,
   "id": "5be44dfb",
   "metadata": {},
   "outputs": [],
   "source": [
    "grouped_reviews = df.groupby('placeInfo/name')"
   ]
  },
  {
   "cell_type": "code",
   "execution_count": 5,
   "id": "23bc713e",
   "metadata": {},
   "outputs": [],
   "source": [
    "concatenated_reviews = grouped_reviews['text'].apply(lambda x: ' '.join(x))\n",
    "reviews_by_hotel = pd.DataFrame(concatenated_reviews)\n",
    "reviews_by_hotel.index = reviews_by_hotel.index.get_level_values('placeInfo/name')\n"
   ]
  },
  {
   "cell_type": "code",
   "execution_count": 6,
   "id": "84ed7edc",
   "metadata": {},
   "outputs": [],
   "source": [
    "df = reviews_by_hotel"
   ]
  },
  {
   "cell_type": "markdown",
   "id": "33d4c5d8",
   "metadata": {},
   "source": [
    "Above we can see the data we have for each restaurant. Some potentially useful"
   ]
  },
  {
   "cell_type": "code",
   "execution_count": 7,
   "id": "7bab7635",
   "metadata": {},
   "outputs": [],
   "source": [
    "####Now let's try doc2vec to embed these columns:\n",
    "\n",
    "from gensim.models import Doc2Vec\n",
    "\n",
    "from gensim.models.doc2vec import TaggedDocument\n",
    "\n",
    "\n",
    "\n",
    "\n",
    "##This function takes a particular column and creates an embedding for it usnig the parameters specified\n",
    "\n",
    "def embed_doc2vec(df, col, vector_size, window, min_count=2, workers=4):\n",
    "    \n",
    "    # Prepare a list of tagged documents for Doc2Vec\n",
    "    documents = [TaggedDocument(doc.split(), [col + '_' + str(idx)]) for idx, doc in df[col].iteritems()]\n",
    "\n",
    "    # Train a Doc2Vec model for this column\n",
    "    model = Doc2Vec(documents, vector_size = vector_size, window = window, min_count = min_count, workers = workers, epochs=40)  # Adjust hyperparameters as needed\n",
    "\n",
    "    # Embed each document in the column\n",
    "    column_embeddings = [model.infer_vector(doc.words) for doc in documents]\n",
    "\n",
    "    # Add a new column for the embeddings\n",
    "    df[col + '_embeddings'] = column_embeddings\n",
    "    \n",
    "    return df, model\n",
    "\n",
    "    \n",
    "    "
   ]
  },
  {
   "cell_type": "code",
   "execution_count": 8,
   "id": "f45d57ac",
   "metadata": {},
   "outputs": [],
   "source": [
    "df, model = embed_doc2vec(df, 'text', vector_size = 100, window = 3, min_count=2, workers=4)\n"
   ]
  },
  {
   "cell_type": "code",
   "execution_count": 39,
   "id": "f255aa16",
   "metadata": {},
   "outputs": [],
   "source": [
    "#### Let's try some clustering:\n",
    "\n",
    "from scipy.spatial.distance import pdist, squareform\n",
    "from sklearn.cluster import AgglomerativeClustering\n",
    "from sklearn.cluster import KMeans\n",
    "from sklearn.preprocessing import normalize\n",
    "import matplotlib.pyplot as plt\n",
    "\n",
    "# Extract embeddings as a NumPy array\n",
    "embeddings = np.vstack(df['text_embeddings'].tolist()) \n",
    "embeddings = normalize(embeddings)\n",
    "# Calculate cosine similarity matrix (1 - cosine distance)\n",
    "dist_matrix = 1 - squareform(pdist(embeddings, metric='cosine'))\n",
    "\n",
    "# Perform hierarchical clustering with desired linkage\n",
    "#clustering = AgglomerativeClustering(affinity='precomputed', linkage='average')  # Adjust linkage as needed\n",
    "#clusters = clustering.fit_predict(dist_matrix)\n",
    "\n",
    "\n",
    "\n",
    "## K means below for example\n",
    "\n",
    "kmeans = KMeans(n_clusters=15, random_state=42)  # Set a random state for reproducibility\n",
    "clusters = kmeans.fit_predict(embeddings)\n",
    "\n",
    "\n",
    "# Assign cluster labels to the DataFrame\n",
    "df['cluster'] = clusters"
   ]
  },
  {
   "cell_type": "code",
   "execution_count": 40,
   "id": "484bb450",
   "metadata": {},
   "outputs": [
    {
     "data": {
      "text/plain": [
       "count    324.000000\n",
       "mean       6.953704\n",
       "std        4.276187\n",
       "min        0.000000\n",
       "25%        3.000000\n",
       "50%        7.000000\n",
       "75%       10.000000\n",
       "max       14.000000\n",
       "Name: cluster, dtype: float64"
      ]
     },
     "execution_count": 40,
     "metadata": {},
     "output_type": "execute_result"
    }
   ],
   "source": [
    "df['cluster'].describe()"
   ]
  },
  {
   "cell_type": "code",
   "execution_count": 41,
   "id": "433e4d35",
   "metadata": {},
   "outputs": [
    {
     "data": {
      "text/plain": [
       "(324, 100)"
      ]
     },
     "execution_count": 41,
     "metadata": {},
     "output_type": "execute_result"
    }
   ],
   "source": [
    "embeddings.shape"
   ]
  },
  {
   "cell_type": "code",
   "execution_count": 42,
   "id": "a46d9ad1",
   "metadata": {},
   "outputs": [
    {
     "data": {
      "text/plain": [
       "324"
      ]
     },
     "execution_count": 42,
     "metadata": {},
     "output_type": "execute_result"
    }
   ],
   "source": [
    "len(dist_matrix)"
   ]
  },
  {
   "cell_type": "code",
   "execution_count": 43,
   "id": "c3aa21a3",
   "metadata": {},
   "outputs": [
    {
     "data": {
      "text/plain": [
       "array([[1.        , 0.05910454, 0.28969859, ..., 0.16385123, 0.24181216,\n",
       "        0.2890668 ],\n",
       "       [0.05910454, 1.        , 0.32778484, ..., 0.28333748, 0.24231554,\n",
       "        0.27864313],\n",
       "       [0.28969859, 0.32778484, 1.        , ..., 0.20189612, 0.14664503,\n",
       "        0.39395895],\n",
       "       ...,\n",
       "       [0.16385123, 0.28333748, 0.20189612, ..., 1.        , 0.55613936,\n",
       "        0.37197524],\n",
       "       [0.24181216, 0.24231554, 0.14664503, ..., 0.55613936, 1.        ,\n",
       "        0.42970401],\n",
       "       [0.2890668 , 0.27864313, 0.39395895, ..., 0.37197524, 0.42970401,\n",
       "        1.        ]])"
      ]
     },
     "execution_count": 43,
     "metadata": {},
     "output_type": "execute_result"
    }
   ],
   "source": [
    "dist_matrix"
   ]
  },
  {
   "cell_type": "code",
   "execution_count": 14,
   "id": "68655709",
   "metadata": {},
   "outputs": [
    {
     "data": {
      "text/html": [
       "<div>\n",
       "<style scoped>\n",
       "    .dataframe tbody tr th:only-of-type {\n",
       "        vertical-align: middle;\n",
       "    }\n",
       "\n",
       "    .dataframe tbody tr th {\n",
       "        vertical-align: top;\n",
       "    }\n",
       "\n",
       "    .dataframe thead th {\n",
       "        text-align: right;\n",
       "    }\n",
       "</style>\n",
       "<table border=\"1\" class=\"dataframe\">\n",
       "  <thead>\n",
       "    <tr style=\"text-align: right;\">\n",
       "      <th></th>\n",
       "      <th>text</th>\n",
       "      <th>text_embeddings</th>\n",
       "      <th>cluster</th>\n",
       "    </tr>\n",
       "    <tr>\n",
       "      <th>placeInfo/name</th>\n",
       "      <th></th>\n",
       "      <th></th>\n",
       "      <th></th>\n",
       "    </tr>\n",
       "  </thead>\n",
       "  <tbody>\n",
       "    <tr>\n",
       "      <th>#tag ATHENS</th>\n",
       "      <td>Very friendly guide and beautiful visuals - gr...</td>\n",
       "      <td>[-0.82503694, 0.10236739, 0.4589641, -0.876655...</td>\n",
       "      <td>7</td>\n",
       "    </tr>\n",
       "    <tr>\n",
       "      <th>7 Times Athens</th>\n",
       "      <td>The hosting is literally amazing I love how th...</td>\n",
       "      <td>[-1.7836335, -2.7570653, -2.4061048, -1.428828...</td>\n",
       "      <td>5</td>\n",
       "    </tr>\n",
       "    <tr>\n",
       "      <th>A Gem Called Athens</th>\n",
       "      <td>Marleen (our guide) took us on a private walki...</td>\n",
       "      <td>[-3.4142091, -0.15434985, -2.7100892, 0.209038...</td>\n",
       "      <td>4</td>\n",
       "    </tr>\n",
       "    <tr>\n",
       "      <th>A for Athens Cocktail Bar</th>\n",
       "      <td>Amazing bar with phenomenal view of the Acropo...</td>\n",
       "      <td>[-3.8417385, -0.84662014, -1.1545146, 2.561865...</td>\n",
       "      <td>5</td>\n",
       "    </tr>\n",
       "    <tr>\n",
       "      <th>AIOLIS EXPERIENCE</th>\n",
       "      <td>With the company we had some misunderstandings...</td>\n",
       "      <td>[-1.630549, -1.6792614, 1.4786035, -0.32353225...</td>\n",
       "      <td>6</td>\n",
       "    </tr>\n",
       "    <tr>\n",
       "      <th>...</th>\n",
       "      <td>...</td>\n",
       "      <td>...</td>\n",
       "      <td>...</td>\n",
       "    </tr>\n",
       "    <tr>\n",
       "      <th>Zappeion Conference &amp; Exhibition Center</th>\n",
       "      <td>Zappeion Hall is the centrepiece of the Nation...</td>\n",
       "      <td>[-2.5110865, 0.6035067, -2.1319358, -1.8076857...</td>\n",
       "      <td>2</td>\n",
       "    </tr>\n",
       "    <tr>\n",
       "      <th>Zen Massage</th>\n",
       "      <td>Had a pregnancy massage here at 6 months pregn...</td>\n",
       "      <td>[-2.861088, -0.67749894, -1.3750279, -1.626544...</td>\n",
       "      <td>8</td>\n",
       "    </tr>\n",
       "    <tr>\n",
       "      <th>babytaxi.gr</th>\n",
       "      <td>Great service, very comfortable car. Thoroughl...</td>\n",
       "      <td>[-4.9792647, 1.0457178, -0.2917178, 1.9251764,...</td>\n",
       "      <td>9</td>\n",
       "    </tr>\n",
       "    <tr>\n",
       "      <th>eTransfer</th>\n",
       "      <td>Simply impeccable service, super clean vehicle...</td>\n",
       "      <td>[-4.477935, -0.52463806, -1.1199925, 1.9866151...</td>\n",
       "      <td>9</td>\n",
       "    </tr>\n",
       "    <tr>\n",
       "      <th>Гид в Афинах - Guide In Athens (Экскурсии в Афинах, Экскурсии в Греции)</th>\n",
       "      <td>Прекрасная организация, эффективный и легкий к...</td>\n",
       "      <td>[-1.5880272, -0.8167305, 0.18636508, 0.5315571...</td>\n",
       "      <td>3</td>\n",
       "    </tr>\n",
       "  </tbody>\n",
       "</table>\n",
       "<p>324 rows × 3 columns</p>\n",
       "</div>"
      ],
      "text/plain": [
       "                                                                                                 text  \\\n",
       "placeInfo/name                                                                                          \n",
       "#tag ATHENS                                         Very friendly guide and beautiful visuals - gr...   \n",
       "7 Times Athens                                      The hosting is literally amazing I love how th...   \n",
       "A Gem Called Athens                                 Marleen (our guide) took us on a private walki...   \n",
       "A for Athens Cocktail Bar                           Amazing bar with phenomenal view of the Acropo...   \n",
       "AIOLIS EXPERIENCE                                   With the company we had some misunderstandings...   \n",
       "...                                                                                               ...   \n",
       "Zappeion Conference & Exhibition Center             Zappeion Hall is the centrepiece of the Nation...   \n",
       "Zen Massage                                         Had a pregnancy massage here at 6 months pregn...   \n",
       "babytaxi.gr                                         Great service, very comfortable car. Thoroughl...   \n",
       "eTransfer                                           Simply impeccable service, super clean vehicle...   \n",
       "Гид в Афинах - Guide In Athens (Экскурсии в Афи...  Прекрасная организация, эффективный и легкий к...   \n",
       "\n",
       "                                                                                      text_embeddings  \\\n",
       "placeInfo/name                                                                                          \n",
       "#tag ATHENS                                         [-0.82503694, 0.10236739, 0.4589641, -0.876655...   \n",
       "7 Times Athens                                      [-1.7836335, -2.7570653, -2.4061048, -1.428828...   \n",
       "A Gem Called Athens                                 [-3.4142091, -0.15434985, -2.7100892, 0.209038...   \n",
       "A for Athens Cocktail Bar                           [-3.8417385, -0.84662014, -1.1545146, 2.561865...   \n",
       "AIOLIS EXPERIENCE                                   [-1.630549, -1.6792614, 1.4786035, -0.32353225...   \n",
       "...                                                                                               ...   \n",
       "Zappeion Conference & Exhibition Center             [-2.5110865, 0.6035067, -2.1319358, -1.8076857...   \n",
       "Zen Massage                                         [-2.861088, -0.67749894, -1.3750279, -1.626544...   \n",
       "babytaxi.gr                                         [-4.9792647, 1.0457178, -0.2917178, 1.9251764,...   \n",
       "eTransfer                                           [-4.477935, -0.52463806, -1.1199925, 1.9866151...   \n",
       "Гид в Афинах - Guide In Athens (Экскурсии в Афи...  [-1.5880272, -0.8167305, 0.18636508, 0.5315571...   \n",
       "\n",
       "                                                    cluster  \n",
       "placeInfo/name                                               \n",
       "#tag ATHENS                                               7  \n",
       "7 Times Athens                                            5  \n",
       "A Gem Called Athens                                       4  \n",
       "A for Athens Cocktail Bar                                 5  \n",
       "AIOLIS EXPERIENCE                                         6  \n",
       "...                                                     ...  \n",
       "Zappeion Conference & Exhibition Center                   2  \n",
       "Zen Massage                                               8  \n",
       "babytaxi.gr                                               9  \n",
       "eTransfer                                                 9  \n",
       "Гид в Афинах - Guide In Athens (Экскурсии в Афи...        3  \n",
       "\n",
       "[324 rows x 3 columns]"
      ]
     },
     "execution_count": 14,
     "metadata": {},
     "output_type": "execute_result"
    }
   ],
   "source": [
    "df"
   ]
  },
  {
   "cell_type": "code",
   "execution_count": 44,
   "id": "93dcf348",
   "metadata": {},
   "outputs": [
    {
     "data": {
      "text/plain": [
       "2     34\n",
       "3     33\n",
       "4     31\n",
       "9     31\n",
       "10    29\n",
       "13    26\n",
       "14    19\n",
       "8     18\n",
       "11    18\n",
       "0     16\n",
       "5     16\n",
       "12    16\n",
       "7     13\n",
       "1     12\n",
       "6     12\n",
       "Name: cluster, dtype: int64"
      ]
     },
     "execution_count": 44,
     "metadata": {},
     "output_type": "execute_result"
    }
   ],
   "source": [
    "df['cluster'].value_counts()"
   ]
  },
  {
   "cell_type": "code",
   "execution_count": 38,
   "id": "40515240",
   "metadata": {},
   "outputs": [
    {
     "name": "stderr",
     "output_type": "stream",
     "text": [
      "C:\\ProgramData\\Anaconda3\\lib\\site-packages\\sklearn\\cluster\\_kmeans.py:1036: UserWarning: KMeans is known to have a memory leak on Windows with MKL, when there are less chunks than available threads. You can avoid it by setting the environment variable OMP_NUM_THREADS=2.\n",
      "  warnings.warn(\n"
     ]
    },
    {
     "data": {
      "image/png": "[encoded data removed]",
      "text/plain": [
       "<Figure size 432x288 with 1 Axes>"
      ]
     },
     "metadata": {
      "needs_background": "light"
     },
     "output_type": "display_data"
    }
   ],
   "source": [
    "### Here we try to evaluate the number of clusters and their inertia to try and locate the 'elbow'\n",
    "\n",
    "sse = {}\n",
    "for k in range(1, 25):\n",
    "    kmeans = KMeans(n_clusters=k, max_iter=1000).fit(embeddings)\n",
    "    df[\"cluster\"] = kmeans.labels_\n",
    "    #print(data[\"clusters\"])\n",
    "    sse[k] = kmeans.inertia_ # Inertia: Sum of distances of samples to their closest cluster center\n",
    "plt.figure()\n",
    "plt.plot(list(sse.keys()), list(sse.values()))\n",
    "plt.xlabel(\"Number of clusters\")\n",
    "plt.ylabel(\"SSE\")\n",
    "plt.show()"
   ]
  },
  {
   "cell_type": "code",
   "execution_count": 47,
   "id": "eef5087e",
   "metadata": {
    "scrolled": true
   },
   "outputs": [
    {
     "data": {
      "text/plain": [
       "Index(['Acropolis', 'Areopagus', 'Erechtheion', 'Herod Atticus Odeon',\n",
       "       'Medea and other friends i made in Athens', 'Mount Lycabettus',\n",
       "       'Panathenaic Stadium', 'Parthenon', 'Philopappos Hill',\n",
       "       'Philopappos Monument', 'Pnyx', 'Propylaea', 'Temple of Athena Nike',\n",
       "       'Temple of Hephaestus', 'Theater of Dionysus', 'Tower of the Winds'],\n",
       "      dtype='object', name='placeInfo/name')"
      ]
     },
     "metadata": {},
     "output_type": "display_data"
    }
   ],
   "source": [
    "with pd.option_context('display.max_colwidth', None,\n",
    "                       'display.max_columns', None,\n",
    "                       'display.max_rows', None):\n",
    "\n",
    "\n",
    "\n",
    "    display(df[df['cluster'] ==5].index)"
   ]
  },
  {
   "cell_type": "markdown",
   "id": "18c5d406",
   "metadata": {},
   "source": [
    "### Above we can see for example that cluster 5 correlates to historical places"
   ]
  },
  {
   "cell_type": "code",
   "execution_count": 23,
   "id": "22e7cc66",
   "metadata": {},
   "outputs": [
    {
     "data": {
      "text/html": [
       "<div>\n",
       "<style scoped>\n",
       "    .dataframe tbody tr th:only-of-type {\n",
       "        vertical-align: middle;\n",
       "    }\n",
       "\n",
       "    .dataframe tbody tr th {\n",
       "        vertical-align: top;\n",
       "    }\n",
       "\n",
       "    .dataframe thead th {\n",
       "        text-align: right;\n",
       "    }\n",
       "</style>\n",
       "<table border=\"1\" class=\"dataframe\">\n",
       "  <thead>\n",
       "    <tr style=\"text-align: right;\">\n",
       "      <th></th>\n",
       "      <th>text</th>\n",
       "      <th>text_embeddings</th>\n",
       "      <th>cluster</th>\n",
       "    </tr>\n",
       "    <tr>\n",
       "      <th>placeInfo/name</th>\n",
       "      <th></th>\n",
       "      <th></th>\n",
       "      <th></th>\n",
       "    </tr>\n",
       "  </thead>\n",
       "  <tbody>\n",
       "    <tr>\n",
       "      <th>#tag ATHENS</th>\n",
       "      <td>Very friendly guide and beautiful visuals - gr...</td>\n",
       "      <td>[-0.82503694, 0.10236739, 0.4589641, -0.876655...</td>\n",
       "      <td>3</td>\n",
       "    </tr>\n",
       "    <tr>\n",
       "      <th>7 Times Athens</th>\n",
       "      <td>The hosting is literally amazing I love how th...</td>\n",
       "      <td>[-1.7836335, -2.7570653, -2.4061048, -1.428828...</td>\n",
       "      <td>11</td>\n",
       "    </tr>\n",
       "    <tr>\n",
       "      <th>A Gem Called Athens</th>\n",
       "      <td>Marleen (our guide) took us on a private walki...</td>\n",
       "      <td>[-3.4142091, -0.15434985, -2.7100892, 0.209038...</td>\n",
       "      <td>7</td>\n",
       "    </tr>\n",
       "    <tr>\n",
       "      <th>A for Athens Cocktail Bar</th>\n",
       "      <td>Amazing bar with phenomenal view of the Acropo...</td>\n",
       "      <td>[-3.8417385, -0.84662014, -1.1545146, 2.561865...</td>\n",
       "      <td>11</td>\n",
       "    </tr>\n",
       "    <tr>\n",
       "      <th>AIOLIS EXPERIENCE</th>\n",
       "      <td>With the company we had some misunderstandings...</td>\n",
       "      <td>[-1.630549, -1.6792614, 1.4786035, -0.32353225...</td>\n",
       "      <td>17</td>\n",
       "    </tr>\n",
       "    <tr>\n",
       "      <th>...</th>\n",
       "      <td>...</td>\n",
       "      <td>...</td>\n",
       "      <td>...</td>\n",
       "    </tr>\n",
       "    <tr>\n",
       "      <th>Zappeion Conference &amp; Exhibition Center</th>\n",
       "      <td>Zappeion Hall is the centrepiece of the Nation...</td>\n",
       "      <td>[-2.5110865, 0.6035067, -2.1319358, -1.8076857...</td>\n",
       "      <td>10</td>\n",
       "    </tr>\n",
       "    <tr>\n",
       "      <th>Zen Massage</th>\n",
       "      <td>Had a pregnancy massage here at 6 months pregn...</td>\n",
       "      <td>[-2.861088, -0.67749894, -1.3750279, -1.626544...</td>\n",
       "      <td>6</td>\n",
       "    </tr>\n",
       "    <tr>\n",
       "      <th>babytaxi.gr</th>\n",
       "      <td>Great service, very comfortable car. Thoroughl...</td>\n",
       "      <td>[-4.9792647, 1.0457178, -0.2917178, 1.9251764,...</td>\n",
       "      <td>4</td>\n",
       "    </tr>\n",
       "    <tr>\n",
       "      <th>eTransfer</th>\n",
       "      <td>Simply impeccable service, super clean vehicle...</td>\n",
       "      <td>[-4.477935, -0.52463806, -1.1199925, 1.9866151...</td>\n",
       "      <td>4</td>\n",
       "    </tr>\n",
       "    <tr>\n",
       "      <th>Гид в Афинах - Guide In Athens (Экскурсии в Афинах, Экскурсии в Греции)</th>\n",
       "      <td>Прекрасная организация, эффективный и легкий к...</td>\n",
       "      <td>[-1.5880272, -0.8167305, 0.18636508, 0.5315571...</td>\n",
       "      <td>19</td>\n",
       "    </tr>\n",
       "  </tbody>\n",
       "</table>\n",
       "<p>324 rows × 3 columns</p>\n",
       "</div>"
      ],
      "text/plain": [
       "                                                                                                 text  \\\n",
       "placeInfo/name                                                                                          \n",
       "#tag ATHENS                                         Very friendly guide and beautiful visuals - gr...   \n",
       "7 Times Athens                                      The hosting is literally amazing I love how th...   \n",
       "A Gem Called Athens                                 Marleen (our guide) took us on a private walki...   \n",
       "A for Athens Cocktail Bar                           Amazing bar with phenomenal view of the Acropo...   \n",
       "AIOLIS EXPERIENCE                                   With the company we had some misunderstandings...   \n",
       "...                                                                                               ...   \n",
       "Zappeion Conference & Exhibition Center             Zappeion Hall is the centrepiece of the Nation...   \n",
       "Zen Massage                                         Had a pregnancy massage here at 6 months pregn...   \n",
       "babytaxi.gr                                         Great service, very comfortable car. Thoroughl...   \n",
       "eTransfer                                           Simply impeccable service, super clean vehicle...   \n",
       "Гид в Афинах - Guide In Athens (Экскурсии в Афи...  Прекрасная организация, эффективный и легкий к...   \n",
       "\n",
       "                                                                                      text_embeddings  \\\n",
       "placeInfo/name                                                                                          \n",
       "#tag ATHENS                                         [-0.82503694, 0.10236739, 0.4589641, -0.876655...   \n",
       "7 Times Athens                                      [-1.7836335, -2.7570653, -2.4061048, -1.428828...   \n",
       "A Gem Called Athens                                 [-3.4142091, -0.15434985, -2.7100892, 0.209038...   \n",
       "A for Athens Cocktail Bar                           [-3.8417385, -0.84662014, -1.1545146, 2.561865...   \n",
       "AIOLIS EXPERIENCE                                   [-1.630549, -1.6792614, 1.4786035, -0.32353225...   \n",
       "...                                                                                               ...   \n",
       "Zappeion Conference & Exhibition Center             [-2.5110865, 0.6035067, -2.1319358, -1.8076857...   \n",
       "Zen Massage                                         [-2.861088, -0.67749894, -1.3750279, -1.626544...   \n",
       "babytaxi.gr                                         [-4.9792647, 1.0457178, -0.2917178, 1.9251764,...   \n",
       "eTransfer                                           [-4.477935, -0.52463806, -1.1199925, 1.9866151...   \n",
       "Гид в Афинах - Guide In Athens (Экскурсии в Афи...  [-1.5880272, -0.8167305, 0.18636508, 0.5315571...   \n",
       "\n",
       "                                                    cluster  \n",
       "placeInfo/name                                               \n",
       "#tag ATHENS                                               3  \n",
       "7 Times Athens                                           11  \n",
       "A Gem Called Athens                                       7  \n",
       "A for Athens Cocktail Bar                                11  \n",
       "AIOLIS EXPERIENCE                                        17  \n",
       "...                                                     ...  \n",
       "Zappeion Conference & Exhibition Center                  10  \n",
       "Zen Massage                                               6  \n",
       "babytaxi.gr                                               4  \n",
       "eTransfer                                                 4  \n",
       "Гид в Афинах - Guide In Athens (Экскурсии в Афи...       19  \n",
       "\n",
       "[324 rows x 3 columns]"
      ]
     },
     "execution_count": 23,
     "metadata": {},
     "output_type": "execute_result"
    }
   ],
   "source": [
    "df"
   ]
  },
  {
   "cell_type": "markdown",
   "id": "2cdf9033",
   "metadata": {},
   "source": [
    "#### Above we tried to cluster using document embeddings that we trained ourselves, but this didn't seem to be successful, the clusters don't seem to reflect much and this could be for several reasons e.g. the inherent data wasn't rich enough, cluster size fine tuning, or even our trained embeddings(not enough data). "
   ]
  },
  {
   "cell_type": "code",
   "execution_count": 49,
   "id": "68d91437",
   "metadata": {},
   "outputs": [],
   "source": [
    "tokens = 'I want a massage and spa, relaxing experience, get my nails done, with hammam and baths'.split()\n",
    "new_vector = model.infer_vector(tokens)\n",
    "sims = model.dv.most_similar([new_vector]) #gives you top 10 document tags and their cosine similarity"
   ]
  },
  {
   "cell_type": "code",
   "execution_count": 50,
   "id": "9c515449",
   "metadata": {},
   "outputs": [
    {
     "data": {
      "text/plain": [
       "[('text_Athens Fish Spa Massage & Hammam', 0.6019613146781921),\n",
       " ('text_Salon De Massage', 0.5989214181900024),\n",
       " ('text_Hammam Shahrazad', 0.5979065299034119),\n",
       " ('text_Hando Massage', 0.5945116877555847),\n",
       " ('text_Hammam Baths Athens', 0.5887187719345093),\n",
       " ('text_Doctor Fish Athens - Day Spa & Nail Bar', 0.5854371786117554),\n",
       " ('text_Ministry of Massage by Athens Massage & Yoga Academy',\n",
       "  0.5843056440353394),\n",
       " ('text_Polis Hammam-Polis Loutron', 0.5822906494140625),\n",
       " ('text_Arte Massage Wellness Salon', 0.5689911246299744),\n",
       " ('text_Mf Day Spa', 0.5656005144119263)]"
      ]
     },
     "execution_count": 50,
     "metadata": {},
     "output_type": "execute_result"
    }
   ],
   "source": [
    "sims"
   ]
  },
  {
   "cell_type": "code",
   "execution_count": 48,
   "id": "53c2f386",
   "metadata": {},
   "outputs": [
    {
     "data": {
      "text/plain": [
       "\"A revisit first visited in 1969 with family.\\nThen again in 90’s and 2004\\nA lot of freedom in 1969 able to walk over the Parthenon \\n\\nNow understand needs protection \\n\\nAmazing as ever but very crowded!\\nViews amazing Far too many visitors on the day took the edge off the experience for us. But popularity is the price of iconic fame for legendary tourist spots like the Acropolis that everybody wants to see, so what can you expect? Still, it was well worth a bit of a hike up to the top of the rock. It’s an impressively large structure close up and also a striking looking sight from down below, viewed from all parts of Athens. A must see if you visit Athens. But will recommend it at a cooler temperature. We were sweating on the top of the hill, even the temperature was around 65F. There are plenty facility staff, who are friendly and helpful. \\n\\nThe marble stairs are kind of slippery as others  have mentioned, but not too bad for a middle aged couple like us who only moderately active 😀They also have an elevator for people who need could take you up to the top, but there are a lot of small rocks laid on the ground around the ruins, you got to be careful when walking around. \\n\\nWe bought online tickets at the gate from their official website. It helped us to skip the tickets line. Thank you for the recommendation from other travelers. Since there are winter discounts for entry tickets, buying individual tickets are cheaper than buying the combo for 30 euro. Brilliant, a great experience. December a great time to visit, weather perfect not cod but not too hot, just comfortable and even though December still quite busy, I would hate to visit with crowds in summer!\\nNothing to add to what has been said by others except to say that on site interpretation is not great, some signs isolated from paths, they lack cardinal points allowing identification of north/south etc and the sign about bronze casting, really interesting, discusses site A and site D without identifying them anywhere. I’m being churlish, this is a great visit if only people posing to have their photographs taken in front of temples would hurry up!\\n Beyond all our expectations. Incredible historical site, the scale of which was truly humbling. We went at 4pm (December), it was perfect - fewer people and the most beautiful orange light as the sun went down. Highly recommend. Incredible to stand on the ground of this ancient wonder. The site was busy (we travelled in mid-October; the weather was still very hot); they had closed some of the exits to the hill top so it was crowded as we entered and departed. If you can stand the “Selfie” people that need to have a clear view of the buildings while they take their photos then you will enjoy the tour. I highly recommend booking a walking tour in advance as they do limit the number of tickets sold at specific times. The amphitheater is also incredible as you ascend the hill. Also; visit the museum at the bottom as they have created some incredible rooms (that mimic the Acropolis) inside the building. This was a breath-taking experience and something that needs to be done as these buildings are ancient and incredible to visit. October, perfect time to visit Athens and the Acropolis. Great weather and less tourists. A strong recommendation is to arrange with a guided tour in advance. The sacred cliff experience is breathtaking. Fab visit. Transported back in time and had a perfect weather day to take in all parts of walking tour. Go early, take your time to immerse yourself and enjoy! Bought tickets in person visiting Greece off season works for me! What an amazing place - we opted to do our own self paced tour of the precinct. We bought our tickets directly from the Acropolis website. We bought a ticket for the 5 sites but I’m wondering whether that’s a gimmick cause once we entered there we no further ticket checking and we went to all  sites within the precinct.\\n\\nWe entro via the SE corner and there was no queues. The walk is steep in sections but that’s to be expected.\\n\\nAn amazing historical site. Who are the insane people who voted this experience “terrible”, and why were they there, I wonder? Yes, it’s a permanent (re)construction site. In the summer, I suppose it can be quite crowded. However, it is MAGNIFICENT! Very few monuments in the world can inspire us so much. Pay attention to each building and then head to the Acropolis Museum to understand everything better. Beauty of nature♥️♥️♥️♥️\\nAmazing view with old warm feelings of place is very real\\nI enjoied 🥰🥰🥰🥰🥰🥰🥰🥰🥰\\nGreat athene\\nHope to come back another time isa Breathtakingly stunning ! Worth every penny ! This is truly amazing , I highly recommend visiting . The climb is a bit painful , so not good if you have mobility issues , just take your time and take a slow stroll . Stunning views across Athens . Stayed at the Plaka hotel, rooftop bar is unbelievable with views straight across to the Acropolis, drinks open till late and rooms were great I am going to give you the same advice Nick gave us at the Athens Free Tour - Go at the Acropolis Museum first. You will get a better understanding of it's history, evolution and different restauration phases. \\nThe Acropolis site itself doesn't have a lot of information and you don't get a map at the entrance, but having visited the Museum first it was the visit on Acropolis was so much more impressive. \\nI'll leave here a little example so you can understand what I'm talking about: The Parthenon was at some point a temple, then a church and even a mosque. \\nIt's amazing that we get to visit today such an amazing part of history, walking in the steps of the Athenian civilization throughout the years. The Acropolis is an incredible and unmissable part of a visit to Athens but it is also absurdly crowded, hot and exhausting and can be overwhelming. It helps to be prepared, especially if you have kids with you. \\nHere’s a combination of things that were either helpful to know (or would have been helpful if only we’d known)…..\\ni) Current guidebooks and any online sites that haven’t been recently updated, will only have the old information on booking Acropolis tickets. Be aware that from July, 2023, a new system was introduced and you now need to book a specific time slot. Early morning slots are especially good as you can avoid the real heat in the middle of the day.\\nii) Buying the combo ticket (€30) is excellent value. It lasts for 5 days and includes entry to seven ancient sites. Entry to the Acropolis on its own is €20 so if its your first time to Athens, it makes sense to buy it (unless you’re here in winter when many sites are half price). We didn’t visit all 7 of the sites but we more than got our money’s worth - very pleased we did this.\\niii) Don’t make my mistake and try to cram the Acropolis and Ancient Agora in same day - it was serious overload and we didn’t the Agora justice because we were ancient-ed out.\\niv) There are two entry points. Its not a make or break decision. We used the south gate (opposite the Acropolis Museum) simply because it was only 5 mins from our hotel. The advantage is that it's not the main gate so the queue is smaller. The disadvantage is that it’s an uphill walk, around past pass the Theatre of Dionysus and the Odeon, to reach the Acropolis stairs. \\nv) Climbing the Acropolis stairs, through the Propylaea gateway is not for the faint-hearted. This is where you can get seriously hot and bothered. We were pushed and jostled along in a sea of people. There’s no queue or line - people just swarm in and push their way to the top. Hang in there because once you actually get to the top, it all opens up and becomes a sprawling area with plenty of space.\\nvi) The crowds make it really easy to overlook the lovely little Temple Athena Nike as you climb the Acropolis stairs. It’s high up on your right hand side.\\nvii) Bring plenty of water, hat and sunscreen. In summer, it gets so hot and it so very exposed up on the Acropolis, with no reprieve from the sun. We saw one man selling bottled water behind the Parthenon but otherwise there was nothing.\\nviii) The don’t-miss highlights include the Parthenon, the Erechtheion, The Theatre of Dionysus and the Herod Atticus Odeon. Miss any one of these and you’ll be disappointed.\\nix) Toilets do exist but are hidden away. We found a security guard who directed us to them.\\nx) Wear flat, comfortable shoes with grip because the stony area around the Parthenon is quite slippery. I saw several people slip and it will wreck your day it you twist an ankle. The tricky thing is it doesn’t look slippery but because the marble’s been worn smooth by centuries of people walking over it, you can easily lose your footing.\\nxi) They don’t give out maps or information at the ticket desk so if you’re not on a guided tour then bring a guide book, or download a map and information beforehand. At the very least stop at the information board near the entry gate and take a photo of the map there.\\n A perfect time to visit Athens and the Acropolis, is in late September or October. Great weather and less tourists. A strong recommendation is to arrange with a guided tour in advance. We were four people and had a private guide, first at the Acropolis museum and later up at the cliff. To experience the sunset from Parthenon is breathtaking. Your typical 1st time-visitor to Athens’ Acropolis is usually fixated on seeing the Pantheon first and foremost and make a beeline for it. And with good reason, it’s a bottler of a relic, one of the great icons from the ancient era. But the close-by Erechtheion shouldn’t be overlooked. It’s a great piece of religious classical architecture in its own right, topped off by the Porch of the Maidens (columns of female figures) which give the building its uniquely distinctive appearance. We have already reported on our trip up to the Acropolis back in November, but for those of you that missed that report (log) a snapshot:\\n\\nThe Greek definition for Acropolis is = Highest point!\\n•\\tThe Acropolis is crowned by the majestic ruins of the large Parthenon (Temple of goddess Athena).  There is an additional temple up there dedicated to Athena and shared with Poseidon.\\n•\\t“The Story” goes that 2,500 + years ago the gods Athena and Poseidon wanted to act as the protector of the city of Athens / country of what would become Greece.  Poseidon threw down his Trident spear to open a well of water atop the Acropolis hill, but the people had no use, as the well was full of salt water.  Athena offered up the first Olive tree (that now has totally populated all of Greece), and the people saw a resource they could use, SO the main Temple (the big one called the Pantheon) was dedicated to Athena, and a smaller one dedicated to both Athena and Poseidon that is next to the big temple.\\n•\\tThey are still “gluing” (HA HA comment) the Pantheon back together after the massive explosion that blew its roof off during the Turkey / Greece war. ---- It is going to take a LONG time.\\n•\\t1,800 years ago, the Romans added some features to the Acropolis, and changed the names of the gods worshiped there (same god but different name).\\n•\\tThe Barbarians: within their sweep across the Aegean area attacked Athens (including the Acropolis) in the third century AD, pillaging anything of value and burning down anything that could be consumed by fire.  \\n\\nWe have visited the full-scale reproduction of the Pantheon in Nashville USA. (Originally built for Tennessee's 1897 Centennial Exposition), and it is a MUST see either before or after visiting the real thing in Greece!\\n Very nice archeological site where we could see the Parthenon, the cariathids, Athen's temple, Dionissons theatre, etc., and we had a great view of Athens and Lycabetus. Very crowded. I recommend buying tickets online in advance. I was advised to go on a Saturday as this is the day that the cruise ships arrive and depart and their passengers will not all be trying to see the Acropolis.\\nMuch has been written about the beauty and history of the site so I will focus on some practical advice for your visit.\\n\\nThere is a lift for the visibly disabled so if you use a wheelchair or a walker then this will allow you access.  But if you are getting on in years and are not as sure footed as you once were, here are some tips for your visit.\\n\\nGet there at 8am or before 9, as you will just be part of a oving mob after this time.\\nThe site is covered in small pebbles and there are many stairs, mostly without any handrails.   Don’t try and look at the buildings while you are moving, look down at your feet and what is under them.  Wear a hat and sunscreen and bring your own water.\\nThere is a first aid station near the ticket office.   \\n\\nI left at 10am and by then the staff were acting as traffic wardens.\\n\\nEnjoy your visit. Visited herein the last week of November. It was still busy, but only twenty minutes queue for tickets. Two of our kids under 25, so there was no charge for them to get in. We got approached while waiting to get in by a local guide. He offered us a 1.5 hour tour for twenty euro each. (+ ticket fee) About ten of us went with him. He was a character who knew everything about the Acropolis and Athens in general. It was very interesting and entertaining with excellent photo opportunities. What a site (with the Parthenon and Dionysos theatre included)  to see while in Athens. It was  recently made wheelchair accessible  I would say this is a mandatory place to visit. Awesome ruins that will take you back to ancient Greece. Better to visit with a guided tour because the queue is faster. Suggested to visit before/after summer to avoid heat and crowds.  Stunning views, and a magnificent monument to visit.   On the downside, no audio tour, no student discount, information boards were sparse and not reader friendly,  officials were not pleasant  The Acropolis is world famous and when you visit you can see why. There are a huge amounts of indivdual sites on top of the hill and these are reveiwed separately. The whole site oozes history and every direction is an amazing view across Athens to the hills and the sea beyond. Only tip is get tickets in advance and go early or late for the minimum people. This is a must see historic site that met all of our expectations! It was still very warm in October & lot’s of stairs to climb! Recommend staying hydrated & use the restroom before entering the fenced area to the site. I took lots of photos & videos! Enjoy 😊 Acropolis is an absolute must. We visited in early October and were surprised by the huge number of people still floating the area. \\nOur visit was great but not as enjoyable as we expected... No trip to Athens is complete unless you visit the Acropolis/Parthenon! It was truly amazing! It was even more spectacular in person---truly. And, the views from up there are gorgeous! Wear comfortable shoes suitable for walking up some rocky hills - and some rocks are slippery.   We arrived first thing in the morning and was not really a queue at the ticket office.  Because it is winter, entry per person was €10, which was great value.\\n\\nIf you have any mobility issues, this could be a problem as there is a lot of walking, steps, and large stones.\\n\\nThe views were stunning and the history was fantastic.\\n\\nEven in the winter, you need sun creams as it is still hot.\\n\\nI would definitely recommend 🙂 Amazing and enthralled by every aspect of the place .\\nNot at all a rip off as some of this type of venue sometimes seem to be . You pay to get in and nothing more , one vending machine selling bottled water at 1/2 euro . That was it.\\nYou are then left to explore , everything has a readable display board that sets out in an interesting way what is or was what I visited the Acropolis for the third or fourth time in October. First visited this beautiful artefact in 1974 and was blown away by its incredible grandeur. At the time it appeared as if the Greeks were undertaking the preservation of this amazing building. Nearly fifty years later and it is in a worse condition. The whole area is a litter strewn pig sty. Cigarette butts, bottle tops, broken glass everywhere. It is in keeping with one of the filthiest cities in Europe. How can a nation regress to such an abysmal state? Return the Elgin Marbles? Never.  Call me miserable but i just was not impressed. To be honest, it is difficult to soak up the historical importance when a) there are so many people around and b) you are constantly watching your step on lumpy marble (polished over the years into some death trap). I honestly wonder if the ancient greeks came to a sticky end due to slippy marble (well that and fallen oranges - but that's another story).\\nOk. So an impressive structure - but one end is shrouded in scaffolding and the rest of it is a building site. You cannot go inside the Pantheon itself i.e. so it's that lap around the edge. (That is trying to avoid the people trying to get their snaps for Instagram/whatever).\\nJust feel you get a much better perspective and appreciation from distance e.g. from Mount Lycabettus (even better with sun setting in background).\\nOne consolation was that tickets at only €10 are very cheap (from the official Government website). Amazing and such a wonderful experience for us as a family, for those that love history this is for you. I would recommend a tour guide 100% The climb up the hill is not as daunting as it looks and there is an elevator if you are officially disabled (so you need to show some kind of card). The site is exactly what it looks from afar, but what makes it somewhat disappointing is the large amount of cranes, scaffolds, building sheds and material. I understand they need to renovate, but it would have been better if it would not have been all around or more tidied up or at one place at the time. This is an amazing place! I traveled from the southern coast of Athens by bus and walked several blocks to get there. Use the google maps app to help determine bus routes and stops, and walking directions. It was a 27 Euro ticket to enter (get it online before you go). It seems that a morning visit avoids the crowds. Spectacular views of Athens! Bring your own water bottle and snacks. Definitely go early to this main attraction in Athens, gets very crowded the later you go with certain time slots.  Admission 10 euros We didn't expect this to be so badly organised, but like most things in greece it is very badly organised, there are several different counters to buy tickets, directly opposite from each other and the ques ended up joining together as it was taking so long.  We waited for about 20 mins in a que to find out that we had to wait an hour before we could enter the acropolis.  \\nThe acropolis was so overcrowded you could hardly see anything, we were squashed like sardines climbing up and down the steps, it certainly wasn't an enjoyable experience.\\nI certainly wouldn't recommend it and wished we hadn't bothered visiting tbh. We went early and by the time we got to the top it was already full of tourists, even though we were there on a shoulder season. Long hike but so worth it! Very informative guide. Met so many people from all over  the world.  Took many pictures. The trip to the Acropolis was outstanding, the weather was fabulous. We went up between 8-9 am and the early start made a difference. Totally avoided all the long queues and the crowd. You don't fully appreciate how beautiful it is until you are there in person. The ruins, the views, the sense of history, are all inspirational. The only place in my travels that has affected me as much as the Parthenon is the Taj Mahal. It does not disappoint. I was curious about how difficult it is to get up there, as I have disabled family members who are interested in going. The walk is strenuous, but not as bad as it looks from below. You weave your way up, sometimes on steps and mostly on ramps. Wear shoes with nonslip soles. If you cannot walk up, bring a letter from your doctor saying you have a disability and need to use their elevator. I read that they will not let you use it without one. Once you are on top, it is fairly easy to walk around if you stay on the paths. It is worth every challenge to experience this place. The birthplace and symbol of democracy. This is a must visit for anyone visiting Athens. My family and I toured the site without hiring a guide, but had prepared reading materials and downloaded self-guided audio tour on our phones. Of course you have to visit the Acropolis. Best very early in the morning. Keep your eyes open and enjoy. Pay attention to every detail as later on in the museum you will see everything up close. 2 different tickets. The combination ticket for the archeological sites (not the museum) is a good option. Fabulous must see site.  Be warned though as it gets very busy - avoid middle part of the day.  I went at 5pm the first time and stayed until closing then again the next day at 8 am when it opens.  Def worth getting up early and queuing for Truly amazing, and quite something to see.  We went with a guide, and I am so glad we did.  We would have missed  so much doing it on our own. it’s kinda of slippy to walk on even in the heat so wear comfy shoes that you can walk steep hills with. \\n\\nextremely beautiful views and architecture. it was like stepping back in time. \\n\\nthere is practically no shade up there and we did not even go in peak summer season but it was so hot and sunny so protect yourself.   \\n\\nbut after actually seeing the parthenon up on the hill there is not too much to see so not much time will be spent. Bucket list item. A must visit if you are able to make the climb. Lots of scaffolding so needs some imagination. By your tickets on line in advance to avoid a prolonged wait as timed entry slots exist. Fabulous in early morning, they are working on the restoration so there was some drilling but it didn’t detract from the experience which was brilliant  Have to visit this in Athens. Long lines and a bit disorganized at the entrance  but worth the wait. It may get too hot in summers. Good Option of elevators for disabled and wheelchair tourists with medical documents.  It is definetely one of the most  impressive and  beautiful and important monuments of the world. I am impressed. We loved walking around the Acropolis. The structures are amazing and the views of the city are spectacular.  Be prepared for lots of walking and large crowds, but it’s worth it.\""
      ]
     },
     "execution_count": 48,
     "metadata": {},
     "output_type": "execute_result"
    }
   ],
   "source": [
    " df.loc[\"Acropolis\",'text']"
   ]
  },
  {
   "cell_type": "markdown",
   "id": "5cfd959b",
   "metadata": {},
   "source": [
    "### Notes: This works alright - putting in keywords about the vibe, experience etc generally correlates with similar restaurants. Later we want to take for example descriptions/photos of each sample cluster, and let the customer upvote/downvote. This will then be used to find similar restaurants(or hotels/attractions). \n",
    "\n",
    "\n",
    "We can also clean this file up to automatically:\n",
    "1. Narrow down number of entities\n",
    "2. Automatically cluster based on number of entities(for example number of clusters  = sqrt(total), so if there are 400 restaurants, then 20 clusters.\n",
    "3. We don't need the clusters to be perfect, just enough that there is some identifiable separation that customers can pick up on."
   ]
  },
  {
   "cell_type": "code",
   "execution_count": null,
   "id": "eafbe3cb",
   "metadata": {},
   "outputs": [],
   "source": []
  }
 ],
 "metadata": {
  "kernelspec": {
   "display_name": "Python 3 (ipykernel)",
   "language": "python",
   "name": "python3"
  },
  "language_info": {
   "codemirror_mode": {
    "name": "ipython",
    "version": 3
   },
   "file_extension": ".py",
   "mimetype": "text/x-python",
   "name": "python",
   "nbconvert_exporter": "python",
   "pygments_lexer": "ipython3",
   "version": "3.9.12"
  }
 },
 "nbformat": 4,
 "nbformat_minor": 5
}
